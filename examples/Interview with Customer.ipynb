{
 "cells": [
  {
   "cell_type": "markdown",
   "metadata": {},
   "source": [
    "# Interview with customers\n",
    "\n",
    "What if we could interview our precise target audience synthetically?\n"
   ]
  },
  {
   "cell_type": "code",
   "execution_count": 1,
   "metadata": {
    "execution": {
     "iopub.execute_input": "2025-07-26T17:07:49.502207Z",
     "iopub.status.busy": "2025-07-26T17:07:49.501214Z",
     "iopub.status.idle": "2025-07-26T17:08:08.412768Z",
     "shell.execute_reply": "2025-07-26T17:08:08.408389Z"
    }
   },
   "outputs": [
    {
     "name": "stdout",
     "output_type": "stream",
     "text": [
      "\n",
      "!!!!\n",
      "DISCLAIMER: TinyTroupe relies on Artificial Intelligence (AI) models to generate content. \n",
      "The AI models are not perfect and may produce inappropriate or inacurate results. \n",
      "For any serious or consequential use, please review the generated content before using it.\n",
      "!!!!\n",
      "\n",
      "Looking for default config on: /home/gouri/TinyTroupe/tinytroupe/examples/../tinytroupe/utils/../config.ini\n",
      "Found custom config on: /home/gouri/TinyTroupe/tinytroupe/examples/config.ini\n",
      "TinyTroupe version: 0.0.1\n",
      "Current date and time (local): 2025-08-01 15:45:56\n",
      "Current date and time (UTC):   2025-08-01 05:45:56\n",
      "\n",
      "=================================\n",
      "Current TinyTroupe configuration \n",
      "=================================\n",
      "[OpenAI]\n",
      "api_type = azure\n",
      "azure_openai_key = 354e4e3698fd43389db7cf6759c60380\n",
      "api_base = https://uptio-open-ai-us.openai.azure.com/\n",
      "deployment_id = gpt-4o-mini\n",
      "azure_api_version = 2024-12-01-preview\n",
      "model = gpt-4o-mini\n",
      "reasoning_model = o3-mini\n",
      "embedding_model = text-embedding-3-small\n",
      "max_tokens = 16384\n",
      "temperature = 1.5\n",
      "freq_penalty = 0.1\n",
      "presence_penalty = 0.1\n",
      "timeout = 480\n",
      "max_attempts = 5\n",
      "waiting_time = 0\n",
      "exponential_backoff_factor = 5\n",
      "reasoning_effort = high\n",
      "cache_api_calls = False\n",
      "cache_file_name = openai_api_cache.pickle\n",
      "max_content_display_length = 1024\n",
      "azure_embedding_model_api_version = 2023-05-15\n",
      "\n",
      "[Simulation]\n",
      "parallel_agent_generation = True\n",
      "parallel_agent_actions = True\n",
      "rai_harmful_content_prevention = True\n",
      "rai_copyright_infringement_prevention = True\n",
      "\n",
      "[Cognition]\n",
      "enable_memory_consolidation = True\n",
      "min_episode_length = 15\n",
      "max_episode_length = 50\n",
      "episodic_memory_fixed_prefix_length = 10\n",
      "episodic_memory_lookback_length = 20\n",
      "\n",
      "[ActionGenerator]\n",
      "max_attempts = 2\n",
      "enable_quality_checks = False\n",
      "enable_regeneration = True\n",
      "enable_direct_correction = False\n",
      "enable_quality_check_for_persona_adherence = True\n",
      "enable_quality_check_for_selfconsistency = False\n",
      "enable_quality_check_for_fluency = False\n",
      "enable_quality_check_for_suitability = False\n",
      "enable_quality_check_for_similarity = False\n",
      "continue_on_failure = True\n",
      "quality_threshold = 5\n",
      "\n",
      "[Logging]\n",
      "loglevel = ERROR\n",
      "\n"
     ]
    }
   ],
   "source": [
    "import json\n",
    "import sys\n",
    "sys.path.insert(0, '..')\n",
    "\n",
    "from dotenv import load_dotenv\n",
    "\n",
    "load_dotenv()\n",
    "\n",
    "import tinytroupe\n",
    "from tinytroupe.agent import TinyPerson\n",
    "from tinytroupe.environment import TinyWorld, TinySocialNetwork\n",
    "from tinytroupe.factory import TinyPersonFactory\n",
    "from tinytroupe.extraction import ResultsReducer\n",
    "from tinytroupe.validation import TinyPersonValidator\n",
    "import tinytroupe.control as control"
   ]
  },
  {
   "cell_type": "markdown",
   "metadata": {},
   "source": [
    "Let's create the specific types of agents we need to collect data."
   ]
  },
  {
   "cell_type": "code",
   "execution_count": 2,
   "metadata": {},
   "outputs": [
    {
     "name": "stdout",
     "output_type": "stream",
     "text": [
      "API Key: 354e4e3698fd43389db7cf6759c60380\n",
      "Endpoint: https://uptio-open-ai-us.openai.azure.com/\n"
     ]
    }
   ],
   "source": [
    "import os\n",
    "from dotenv import load_dotenv\n",
    "\n",
    "load_dotenv()\n",
    "\n",
    "print(\"API Key:\", os.getenv(\"AZURE_OPENAI_KEY\"))\n",
    "print(\"Endpoint:\", os.getenv(\"AZURE_OPENAI_ENDPOINT\"))\n"
   ]
  },
  {
   "cell_type": "code",
   "execution_count": 3,
   "metadata": {
    "execution": {
     "iopub.execute_input": "2025-07-26T17:08:08.426009Z",
     "iopub.status.busy": "2025-07-26T17:08:08.424958Z",
     "iopub.status.idle": "2025-07-26T17:09:31.719927Z",
     "shell.execute_reply": "2025-07-26T17:09:31.719036Z"
    }
   },
   "outputs": [],
   "source": [
    "import os\n",
    "from dotenv import load_dotenv\n",
    "\n",
    "load_dotenv()  # make sure this is run before any API calls\n",
    "\n",
    "from tinytroupe.factory import TinyPersonFactory\n",
    "\n",
    "sampled_characteristics = None\n",
    "\n",
    "factory = TinyPersonFactory(context=\"One of the largest banks in Brazil, full of bureaucracy and legacy systems.\")\n",
    "\n",
    "customer = factory.generate_person(\n",
    "    \"\"\"\n",
    "    The vice-president of one product innovation. Has a degree in engineering and a MBA in finance. \n",
    "    Is facing a lot of pressure from the board of directors to fight off the competition from the fintechs.    \n",
    "    \"\"\"\n",
    ")"
   ]
  },
  {
   "cell_type": "code",
   "execution_count": 4,
   "metadata": {
    "execution": {
     "iopub.execute_input": "2025-07-26T17:09:31.840967Z",
     "iopub.status.busy": "2025-07-26T17:09:31.839967Z",
     "iopub.status.idle": "2025-07-26T17:09:31.862962Z",
     "shell.execute_reply": "2025-07-26T17:09:31.861962Z"
    }
   },
   "outputs": [
    {
     "data": {
      "text/plain": [
       "'Lucas Pereira is a 42 year old Vice President of Product Innovation, Brazilian, currently living in São Paulo, Brazil. Lucas Pereira is not only a dedicated professional but also a multifaceted individual with a rich array of interests and values. He is passionate about technology and innovation in finance, often engaging in discussions about emerging trends with his teenage daughter, Ana. Lucas enjoys cooking and experimenting with new recipes on weekends, reflecting his creative side outside of work. He is also committed to giving back to the community, volunteering at a non-profit that teaches financial literacy, and believes in the importance of lifelong learning, regularly enrolling in online courses to further enhance his skills.'"
      ]
     },
     "execution_count": 4,
     "metadata": {},
     "output_type": "execute_result"
    }
   ],
   "source": [
    "customer.minibio()"
   ]
  },
  {
   "cell_type": "markdown",
   "metadata": {},
   "source": [
    "Let's validate it now."
   ]
  },
  {
   "cell_type": "code",
   "execution_count": 5,
   "metadata": {
    "execution": {
     "iopub.execute_input": "2025-07-26T17:09:31.884501Z",
     "iopub.status.busy": "2025-07-26T17:09:31.884501Z",
     "iopub.status.idle": "2025-07-26T17:10:40.303051Z",
     "shell.execute_reply": "2025-07-26T17:10:40.300145Z"
    }
   },
   "outputs": [
    {
     "data": {
      "text/html": [
       "<pre style=\"margin:0px;;white-space:pre;overflow-x:auto;line-height:normal;font-family:Menlo,'DejaVu Sans Mono',consolas,'Courier New',monospace\"><span style=\"color: #00ffff; text-decoration-color: #00ffff; font-weight: bold; font-style: italic; text-decoration: underline\">USER</span><span style=\"color: #00ffff; text-decoration-color: #00ffff; font-weight: bold; font-style: italic\"> --&gt; </span><span style=\"color: #00ffff; text-decoration-color: #00ffff; font-weight: bold; font-style: italic; text-decoration: underline\">Lucas Pereira</span><span style=\"color: #00ffff; text-decoration-color: #00ffff; font-weight: bold; font-style: italic\">: [CONVERSATION] </span>\n",
       "<span style=\"color: #00ffff; text-decoration-color: #00ffff; font-weight: bold; font-style: italic\">          &gt; CHARACTERISTICS QUESTIONS: Let me start by confirming some basic facts about you.  1.</span>\n",
       "<span style=\"color: #00ffff; text-decoration-color: #00ffff; font-weight: bold; font-style: italic\">          &gt; What is your name? 2. How old are you? 3. Where were you born? 4. What is your current</span>\n",
       "<span style=\"color: #00ffff; text-decoration-color: #00ffff; font-weight: bold; font-style: italic\">          &gt; occupation? 5. Can you describe your role and responsibilities at your job? 6. What are</span>\n",
       "<span style=\"color: #00ffff; text-decoration-color: #00ffff; font-weight: bold; font-style: italic\">          &gt; some of your long-term goals in your career? 7. What do you enjoy doing in your free</span>\n",
       "<span style=\"color: #00ffff; text-decoration-color: #00ffff; font-weight: bold; font-style: italic\">          &gt; time? 8. How would you describe your communication style with colleagues? 9. What are</span>\n",
       "<span style=\"color: #00ffff; text-decoration-color: #00ffff; font-weight: bold; font-style: italic\">          &gt; some of your favorite activities or hobbies?</span>\n",
       "</pre>\n"
      ],
      "text/plain": [
       "\u001b[1;3;4;38;5;51mUSER\u001b[0m\u001b[1;3;38;5;51m --> \u001b[0m\u001b[1;3;4;38;5;51mLucas Pereira\u001b[0m\u001b[1;3;38;5;51m: \u001b[0m\u001b[1;3;38;5;51m[\u001b[0m\u001b[1;3;38;5;51mCONVERSATION\u001b[0m\u001b[1;3;38;5;51m]\u001b[0m\u001b[1;3;38;5;51m \u001b[0m\n",
       "\u001b[1;3;38;5;51m          > CHARACTERISTICS QUESTIONS: Let me start by confirming some basic facts about you.  \u001b[0m\u001b[1;3;38;5;51m1\u001b[0m\u001b[1;3;38;5;51m.\u001b[0m\n",
       "\u001b[1;3;38;5;51m          > What is your name? \u001b[0m\u001b[1;3;38;5;51m2\u001b[0m\u001b[1;3;38;5;51m. How old are you? \u001b[0m\u001b[1;3;38;5;51m3\u001b[0m\u001b[1;3;38;5;51m. Where were you born? \u001b[0m\u001b[1;3;38;5;51m4\u001b[0m\u001b[1;3;38;5;51m. What is your current\u001b[0m\n",
       "\u001b[1;3;38;5;51m          > occupation? \u001b[0m\u001b[1;3;38;5;51m5\u001b[0m\u001b[1;3;38;5;51m. Can you describe your role and responsibilities at your job? \u001b[0m\u001b[1;3;38;5;51m6\u001b[0m\u001b[1;3;38;5;51m. What are\u001b[0m\n",
       "\u001b[1;3;38;5;51m          > some of your long-term goals in your career? \u001b[0m\u001b[1;3;38;5;51m7\u001b[0m\u001b[1;3;38;5;51m. What do you enjoy doing in your free\u001b[0m\n",
       "\u001b[1;3;38;5;51m          > time? \u001b[0m\u001b[1;3;38;5;51m8\u001b[0m\u001b[1;3;38;5;51m. How would you describe your communication style with colleagues? \u001b[0m\u001b[1;3;38;5;51m9\u001b[0m\u001b[1;3;38;5;51m. What are\u001b[0m\n",
       "\u001b[1;3;38;5;51m          > some of your favorite activities or hobbies?\u001b[0m\n"
      ]
     },
     "metadata": {},
     "output_type": "display_data"
    },
    {
     "data": {
      "text/html": [
       "<pre style=\"margin:0px;;white-space:pre;overflow-x:auto;line-height:normal;font-family:Menlo,'DejaVu Sans Mono',consolas,'Courier New',monospace\"><span style=\"color: #00d700; text-decoration-color: #00d700; font-weight: bold; text-decoration: underline\">Lucas Pereira</span><span style=\"color: #00d700; text-decoration-color: #00d700; font-weight: bold\"> acts: [TALK] </span>\n",
       "<span style=\"color: #00d700; text-decoration-color: #00d700; font-weight: bold\">                   &gt; Sure, let me answer your questions: </span><span style=\"color: #00d700; text-decoration-color: #00d700; font-weight: bold\">1</span><span style=\"color: #00d700; text-decoration-color: #00d700; font-weight: bold\">. My name is Lucas Pereira. </span><span style=\"color: #00d700; text-decoration-color: #00d700; font-weight: bold\">2</span><span style=\"color: #00d700; text-decoration-color: #00d700; font-weight: bold\">. I am </span><span style=\"color: #00d700; text-decoration-color: #00d700; font-weight: bold\">42</span>\n",
       "<span style=\"color: #00d700; text-decoration-color: #00d700; font-weight: bold\">                   &gt; years old. </span><span style=\"color: #00d700; text-decoration-color: #00d700; font-weight: bold\">3</span><span style=\"color: #00d700; text-decoration-color: #00d700; font-weight: bold\">. I was born in São Paulo, Brazil. </span><span style=\"color: #00d700; text-decoration-color: #00d700; font-weight: bold\">4</span><span style=\"color: #00d700; text-decoration-color: #00d700; font-weight: bold\">. I am currently the Vice</span>\n",
       "<span style=\"color: #00d700; text-decoration-color: #00d700; font-weight: bold\">                   &gt; President of Product Innovation at one of the largest banks in Brazil. </span><span style=\"color: #00d700; text-decoration-color: #00d700; font-weight: bold\">5</span><span style=\"color: #00d700; text-decoration-color: #00d700; font-weight: bold\">. In my</span>\n",
       "<span style=\"color: #00d700; text-decoration-color: #00d700; font-weight: bold\">                   &gt; role, I am responsible for spearheading the development of new financial</span>\n",
       "<span style=\"color: #00d700; text-decoration-color: #00d700; font-weight: bold\">                   &gt; products and services, collaborating with cross-functional teams to ensure</span>\n",
       "<span style=\"color: #00d700; text-decoration-color: #00d700; font-weight: bold\">                   &gt; compliance and innovation. </span><span style=\"color: #00d700; text-decoration-color: #00d700; font-weight: bold\">6</span><span style=\"color: #00d700; text-decoration-color: #00d700; font-weight: bold\">. Some of my long-term goals include leading the</span>\n",
       "<span style=\"color: #00d700; text-decoration-color: #00d700; font-weight: bold\">                   &gt; bank in developing innovative financial products, fostering a culture of</span>\n",
       "<span style=\"color: #00d700; text-decoration-color: #00d700; font-weight: bold\">                   &gt; creativity, and establishing myself as a thought leader in the banking sector.</span>\n",
       "<span style=\"color: #00d700; text-decoration-color: #00d700; font-weight: bold\">                   &gt; </span><span style=\"color: #00d700; text-decoration-color: #00d700; font-weight: bold\">7</span><span style=\"color: #00d700; text-decoration-color: #00d700; font-weight: bold\">. In my free time, I enjoy reading business literature, networking with</span>\n",
       "<span style=\"color: #00d700; text-decoration-color: #00d700; font-weight: bold\">                   &gt; industry professionals, and spending weekends with my family at the beach. </span><span style=\"color: #00d700; text-decoration-color: #00d700; font-weight: bold\">8</span><span style=\"color: #00d700; text-decoration-color: #00d700; font-weight: bold\">. I</span>\n",
       "<span style=\"color: #00d700; text-decoration-color: #00d700; font-weight: bold\">                   &gt; would describe my communication style as formal yet approachable, valuing</span>\n",
       "<span style=\"color: #00d700; text-decoration-color: #00d700; font-weight: bold\">                   &gt; clarity and efficiency. </span><span style=\"color: #00d700; text-decoration-color: #00d700; font-weight: bold\">9</span><span style=\"color: #00d700; text-decoration-color: #00d700; font-weight: bold\">. My favorite activities include playing chess,</span>\n",
       "<span style=\"color: #00d700; text-decoration-color: #00d700; font-weight: bold\">                   &gt; exploring new restaurants, and participating in outdoor activities like hiking.</span>\n",
       "</pre>\n"
      ],
      "text/plain": [
       "\u001b[1;4;38;5;40mLucas Pereira\u001b[0m\u001b[1;38;5;40m acts: \u001b[0m\u001b[1;38;5;40m[\u001b[0m\u001b[1;38;5;40mTALK\u001b[0m\u001b[1;38;5;40m]\u001b[0m\u001b[1;38;5;40m \u001b[0m\n",
       "\u001b[1;38;5;40m                   > Sure, let me answer your questions: \u001b[0m\u001b[1;38;5;40m1\u001b[0m\u001b[1;38;5;40m. My name is Lucas Pereira. \u001b[0m\u001b[1;38;5;40m2\u001b[0m\u001b[1;38;5;40m. I am \u001b[0m\u001b[1;38;5;40m42\u001b[0m\n",
       "\u001b[1;38;5;40m                   > years old. \u001b[0m\u001b[1;38;5;40m3\u001b[0m\u001b[1;38;5;40m. I was born in São Paulo, Brazil. \u001b[0m\u001b[1;38;5;40m4\u001b[0m\u001b[1;38;5;40m. I am currently the Vice\u001b[0m\n",
       "\u001b[1;38;5;40m                   > President of Product Innovation at one of the largest banks in Brazil. \u001b[0m\u001b[1;38;5;40m5\u001b[0m\u001b[1;38;5;40m. In my\u001b[0m\n",
       "\u001b[1;38;5;40m                   > role, I am responsible for spearheading the development of new financial\u001b[0m\n",
       "\u001b[1;38;5;40m                   > products and services, collaborating with cross-functional teams to ensure\u001b[0m\n",
       "\u001b[1;38;5;40m                   > compliance and innovation. \u001b[0m\u001b[1;38;5;40m6\u001b[0m\u001b[1;38;5;40m. Some of my long-term goals include leading the\u001b[0m\n",
       "\u001b[1;38;5;40m                   > bank in developing innovative financial products, fostering a culture of\u001b[0m\n",
       "\u001b[1;38;5;40m                   > creativity, and establishing myself as a thought leader in the banking sector.\u001b[0m\n",
       "\u001b[1;38;5;40m                   > \u001b[0m\u001b[1;38;5;40m7\u001b[0m\u001b[1;38;5;40m. In my free time, I enjoy reading business literature, networking with\u001b[0m\n",
       "\u001b[1;38;5;40m                   > industry professionals, and spending weekends with my family at the beach. \u001b[0m\u001b[1;38;5;40m8\u001b[0m\u001b[1;38;5;40m. I\u001b[0m\n",
       "\u001b[1;38;5;40m                   > would describe my communication style as formal yet approachable, valuing\u001b[0m\n",
       "\u001b[1;38;5;40m                   > clarity and efficiency. \u001b[0m\u001b[1;38;5;40m9\u001b[0m\u001b[1;38;5;40m. My favorite activities include playing chess,\u001b[0m\n",
       "\u001b[1;38;5;40m                   > exploring new restaurants, and participating in outdoor activities like hiking.\u001b[0m\n"
      ]
     },
     "metadata": {},
     "output_type": "display_data"
    },
    {
     "data": {
      "text/html": [
       "<pre style=\"margin:0px;;white-space:pre;overflow-x:auto;line-height:normal;font-family:Menlo,'DejaVu Sans Mono',consolas,'Courier New',monospace\"><span style=\"color: #d0d0d0; text-decoration-color: #d0d0d0; text-decoration: underline\">Lucas Pereira</span><span style=\"color: #d0d0d0; text-decoration-color: #d0d0d0\"> acts: </span><span style=\"color: #d0d0d0; text-decoration-color: #d0d0d0; font-weight: bold\">[</span><span style=\"color: #d0d0d0; text-decoration-color: #d0d0d0\">DONE</span><span style=\"color: #d0d0d0; text-decoration-color: #d0d0d0; font-weight: bold\">]</span><span style=\"color: #d0d0d0; text-decoration-color: #d0d0d0\"> </span>\n",
       "\n",
       "</pre>\n"
      ],
      "text/plain": [
       "\u001b[4;38;5;252mLucas Pereira\u001b[0m\u001b[38;5;252m acts: \u001b[0m\u001b[1;38;5;252m[\u001b[0m\u001b[38;5;252mDONE\u001b[0m\u001b[1;38;5;252m]\u001b[0m\u001b[38;5;252m \u001b[0m\n",
       "\n"
      ]
     },
     "metadata": {},
     "output_type": "display_data"
    },
    {
     "data": {
      "text/html": [
       "<pre style=\"margin:0px;;white-space:pre;overflow-x:auto;line-height:normal;font-family:Menlo,'DejaVu Sans Mono',consolas,'Courier New',monospace\"><span style=\"color: #00ffff; text-decoration-color: #00ffff; font-weight: bold; font-style: italic; text-decoration: underline\">USER</span><span style=\"color: #00ffff; text-decoration-color: #00ffff; font-weight: bold; font-style: italic\"> --&gt; </span><span style=\"color: #00ffff; text-decoration-color: #00ffff; font-weight: bold; font-style: italic; text-decoration: underline\">Lucas Pereira</span><span style=\"color: #00ffff; text-decoration-color: #00ffff; font-weight: bold; font-style: italic\">: [CONVERSATION] </span>\n",
       "<span style=\"color: #00ffff; text-decoration-color: #00ffff; font-weight: bold; font-style: italic\">          &gt; BEHAVIORAL QUESTIONS: Now I'd like to understand how you approach different situations</span>\n",
       "<span style=\"color: #00ffff; text-decoration-color: #00ffff; font-weight: bold; font-style: italic\">          &gt; and decisions.  1. How do you typically handle stress, especially given the pressures of</span>\n",
       "<span style=\"color: #00ffff; text-decoration-color: #00ffff; font-weight: bold; font-style: italic\">          &gt; your job? 2. Can you describe a time when you had to lead a team through a challenging</span>\n",
       "<span style=\"color: #00ffff; text-decoration-color: #00ffff; font-weight: bold; font-style: italic\">          &gt; project? 3. What is your approach to innovation in your role? 4. How do you prioritize</span>\n",
       "<span style=\"color: #00ffff; text-decoration-color: #00ffff; font-weight: bold; font-style: italic\">          &gt; your work-life balance amidst your professional responsibilities? 5. What are your</span>\n",
       "<span style=\"color: #00ffff; text-decoration-color: #00ffff; font-weight: bold; font-style: italic\">          &gt; thoughts on the importance of collaboration across departments in your organization? 6.</span>\n",
       "<span style=\"color: #00ffff; text-decoration-color: #00ffff; font-weight: bold; font-style: italic\">          &gt; How do you stay updated on market trends and technological advancements in finance? 7.</span>\n",
       "<span style=\"color: #00ffff; text-decoration-color: #00ffff; font-weight: bold; font-style: italic\">          &gt; What do you believe is the biggest challenge facing traditional banks today? 8. How do</span>\n",
       "<span style=\"color: #00ffff; text-decoration-color: #00ffff; font-weight: bold; font-style: italic\">          &gt; you ensure that your team remains motivated and accountable?</span>\n",
       "</pre>\n"
      ],
      "text/plain": [
       "\u001b[1;3;4;38;5;51mUSER\u001b[0m\u001b[1;3;38;5;51m --> \u001b[0m\u001b[1;3;4;38;5;51mLucas Pereira\u001b[0m\u001b[1;3;38;5;51m: \u001b[0m\u001b[1;3;38;5;51m[\u001b[0m\u001b[1;3;38;5;51mCONVERSATION\u001b[0m\u001b[1;3;38;5;51m]\u001b[0m\u001b[1;3;38;5;51m \u001b[0m\n",
       "\u001b[1;3;38;5;51m          > BEHAVIORAL QUESTIONS: Now I'd like to understand how you approach different situations\u001b[0m\n",
       "\u001b[1;3;38;5;51m          > and decisions.  \u001b[0m\u001b[1;3;38;5;51m1\u001b[0m\u001b[1;3;38;5;51m. How do you typically handle stress, especially given the pressures of\u001b[0m\n",
       "\u001b[1;3;38;5;51m          > your job? \u001b[0m\u001b[1;3;38;5;51m2\u001b[0m\u001b[1;3;38;5;51m. Can you describe a time when you had to lead a team through a challenging\u001b[0m\n",
       "\u001b[1;3;38;5;51m          > project? \u001b[0m\u001b[1;3;38;5;51m3\u001b[0m\u001b[1;3;38;5;51m. What is your approach to innovation in your role? \u001b[0m\u001b[1;3;38;5;51m4\u001b[0m\u001b[1;3;38;5;51m. How do you prioritize\u001b[0m\n",
       "\u001b[1;3;38;5;51m          > your work-life balance amidst your professional responsibilities? \u001b[0m\u001b[1;3;38;5;51m5\u001b[0m\u001b[1;3;38;5;51m. What are your\u001b[0m\n",
       "\u001b[1;3;38;5;51m          > thoughts on the importance of collaboration across departments in your organization? \u001b[0m\u001b[1;3;38;5;51m6\u001b[0m\u001b[1;3;38;5;51m.\u001b[0m\n",
       "\u001b[1;3;38;5;51m          > How do you stay updated on market trends and technological advancements in finance? \u001b[0m\u001b[1;3;38;5;51m7\u001b[0m\u001b[1;3;38;5;51m.\u001b[0m\n",
       "\u001b[1;3;38;5;51m          > What do you believe is the biggest challenge facing traditional banks today? \u001b[0m\u001b[1;3;38;5;51m8\u001b[0m\u001b[1;3;38;5;51m. How do\u001b[0m\n",
       "\u001b[1;3;38;5;51m          > you ensure that your team remains motivated and accountable?\u001b[0m\n"
      ]
     },
     "metadata": {},
     "output_type": "display_data"
    },
    {
     "data": {
      "text/html": [
       "<pre style=\"margin:0px;;white-space:pre;overflow-x:auto;line-height:normal;font-family:Menlo,'DejaVu Sans Mono',consolas,'Courier New',monospace\"><span style=\"color: #00d700; text-decoration-color: #00d700; font-weight: bold; text-decoration: underline\">Lucas Pereira</span><span style=\"color: #00d700; text-decoration-color: #00d700; font-weight: bold\"> acts: [TALK] </span>\n",
       "<span style=\"color: #00d700; text-decoration-color: #00d700; font-weight: bold\">                   &gt; I'm happy to share my approach to these questions: </span><span style=\"color: #00d700; text-decoration-color: #00d700; font-weight: bold\">1</span><span style=\"color: #00d700; text-decoration-color: #00d700; font-weight: bold\">. To handle stress, I</span>\n",
       "<span style=\"color: #00d700; text-decoration-color: #00d700; font-weight: bold\">                   &gt; practice mindfulness and meditation, which helps me manage the pressures of my</span>\n",
       "<span style=\"color: #00d700; text-decoration-color: #00d700; font-weight: bold\">                   &gt; job effectively. </span><span style=\"color: #00d700; text-decoration-color: #00d700; font-weight: bold\">2</span><span style=\"color: #00d700; text-decoration-color: #00d700; font-weight: bold\">. A notable time I led a team through a challenging project</span>\n",
       "<span style=\"color: #00d700; text-decoration-color: #00d700; font-weight: bold\">                   &gt; was when we had to launch a new digital banking platform under a tight</span>\n",
       "<span style=\"color: #00d700; text-decoration-color: #00d700; font-weight: bold\">                   &gt; deadline. I organized daily check-ins and encouraged open communication to keep</span>\n",
       "<span style=\"color: #00d700; text-decoration-color: #00d700; font-weight: bold\">                   &gt; everyone aligned and motivated. </span><span style=\"color: #00d700; text-decoration-color: #00d700; font-weight: bold\">3</span><span style=\"color: #00d700; text-decoration-color: #00d700; font-weight: bold\">. My approach to innovation involves fostering</span>\n",
       "<span style=\"color: #00d700; text-decoration-color: #00d700; font-weight: bold\">                   &gt; a culture of creativity within my team, encouraging them to think outside the</span>\n",
       "<span style=\"color: #00d700; text-decoration-color: #00d700; font-weight: bold\">                   &gt; box while ensuring that our ideas are feasible and compliant with regulations.</span>\n",
       "<span style=\"color: #00d700; text-decoration-color: #00d700; font-weight: bold\">                   &gt; </span><span style=\"color: #00d700; text-decoration-color: #00d700; font-weight: bold\">4</span><span style=\"color: #00d700; text-decoration-color: #00d700; font-weight: bold\">. I prioritize work-life balance by setting clear boundaries for my work hours</span>\n",
       "<span style=\"color: #00d700; text-decoration-color: #00d700; font-weight: bold\">                   &gt; and making time for family activities on weekends, which helps me recharge. </span><span style=\"color: #00d700; text-decoration-color: #00d700; font-weight: bold\">5</span><span style=\"color: #00d700; text-decoration-color: #00d700; font-weight: bold\">.</span>\n",
       "<span style=\"color: #00d700; text-decoration-color: #00d700; font-weight: bold\">                   &gt; Collaboration across departments is crucial; it allows us to leverage diverse</span>\n",
       "<span style=\"color: #00d700; text-decoration-color: #00d700; font-weight: bold\">                   &gt; perspectives and expertise, ultimately leading to better product outcomes. </span><span style=\"color: #00d700; text-decoration-color: #00d700; font-weight: bold\">6</span><span style=\"color: #00d700; text-decoration-color: #00d700; font-weight: bold\">. I</span>\n",
       "<span style=\"color: #00d700; text-decoration-color: #00d700; font-weight: bold\">                   &gt; stay updated on market trends by reading industry reports, attending</span>\n",
       "<span style=\"color: #00d700; text-decoration-color: #00d700; font-weight: bold\">                   &gt; conferences, and ne (...)</span>\n",
       "</pre>\n"
      ],
      "text/plain": [
       "\u001b[1;4;38;5;40mLucas Pereira\u001b[0m\u001b[1;38;5;40m acts: \u001b[0m\u001b[1;38;5;40m[\u001b[0m\u001b[1;38;5;40mTALK\u001b[0m\u001b[1;38;5;40m]\u001b[0m\u001b[1;38;5;40m \u001b[0m\n",
       "\u001b[1;38;5;40m                   > I'm happy to share my approach to these questions: \u001b[0m\u001b[1;38;5;40m1\u001b[0m\u001b[1;38;5;40m. To handle stress, I\u001b[0m\n",
       "\u001b[1;38;5;40m                   > practice mindfulness and meditation, which helps me manage the pressures of my\u001b[0m\n",
       "\u001b[1;38;5;40m                   > job effectively. \u001b[0m\u001b[1;38;5;40m2\u001b[0m\u001b[1;38;5;40m. A notable time I led a team through a challenging project\u001b[0m\n",
       "\u001b[1;38;5;40m                   > was when we had to launch a new digital banking platform under a tight\u001b[0m\n",
       "\u001b[1;38;5;40m                   > deadline. I organized daily check-ins and encouraged open communication to keep\u001b[0m\n",
       "\u001b[1;38;5;40m                   > everyone aligned and motivated. \u001b[0m\u001b[1;38;5;40m3\u001b[0m\u001b[1;38;5;40m. My approach to innovation involves fostering\u001b[0m\n",
       "\u001b[1;38;5;40m                   > a culture of creativity within my team, encouraging them to think outside the\u001b[0m\n",
       "\u001b[1;38;5;40m                   > box while ensuring that our ideas are feasible and compliant with regulations.\u001b[0m\n",
       "\u001b[1;38;5;40m                   > \u001b[0m\u001b[1;38;5;40m4\u001b[0m\u001b[1;38;5;40m. I prioritize work-life balance by setting clear boundaries for my work hours\u001b[0m\n",
       "\u001b[1;38;5;40m                   > and making time for family activities on weekends, which helps me recharge. \u001b[0m\u001b[1;38;5;40m5\u001b[0m\u001b[1;38;5;40m.\u001b[0m\n",
       "\u001b[1;38;5;40m                   > Collaboration across departments is crucial; it allows us to leverage diverse\u001b[0m\n",
       "\u001b[1;38;5;40m                   > perspectives and expertise, ultimately leading to better product outcomes. \u001b[0m\u001b[1;38;5;40m6\u001b[0m\u001b[1;38;5;40m. I\u001b[0m\n",
       "\u001b[1;38;5;40m                   > stay updated on market trends by reading industry reports, attending\u001b[0m\n",
       "\u001b[1;38;5;40m                   > conferences, and ne \u001b[0m\u001b[1;38;5;40m(\u001b[0m\u001b[1;38;5;40m...\u001b[0m\u001b[1;38;5;40m)\u001b[0m\n"
      ]
     },
     "metadata": {},
     "output_type": "display_data"
    },
    {
     "data": {
      "text/html": [
       "<pre style=\"margin:0px;;white-space:pre;overflow-x:auto;line-height:normal;font-family:Menlo,'DejaVu Sans Mono',consolas,'Courier New',monospace\"><span style=\"color: #d0d0d0; text-decoration-color: #d0d0d0; text-decoration: underline\">Lucas Pereira</span><span style=\"color: #d0d0d0; text-decoration-color: #d0d0d0\"> acts: </span><span style=\"color: #d0d0d0; text-decoration-color: #d0d0d0; font-weight: bold\">[</span><span style=\"color: #d0d0d0; text-decoration-color: #d0d0d0\">DONE</span><span style=\"color: #d0d0d0; text-decoration-color: #d0d0d0; font-weight: bold\">]</span><span style=\"color: #d0d0d0; text-decoration-color: #d0d0d0\"> </span>\n",
       "\n",
       "</pre>\n"
      ],
      "text/plain": [
       "\u001b[4;38;5;252mLucas Pereira\u001b[0m\u001b[38;5;252m acts: \u001b[0m\u001b[1;38;5;252m[\u001b[0m\u001b[38;5;252mDONE\u001b[0m\u001b[1;38;5;252m]\u001b[0m\u001b[38;5;252m \u001b[0m\n",
       "\n"
      ]
     },
     "metadata": {},
     "output_type": "display_data"
    },
    {
     "name": "stdout",
     "output_type": "stream",
     "text": [
      "Banker score:  1.0\n",
      "Banker justification:  Lucas Pereira's responses align perfectly with the expected characteristics and traits outlined in his profile. He demonstrated a clear understanding of his role, articulated his long-term goals effectively, and provided coherent and consistent answers to behavioral questions. His approach to stress management, leadership, innovation, and collaboration reflects a high level of professionalism and insight, consistent with someone in his position. There were no discrepancies or contradictions in his answers, indicating a strong alignment with the defined personality.\n"
     ]
    }
   ],
   "source": [
    "customer_expectations =\\\n",
    "    \"\"\"\n",
    "    He/she is:\n",
    "    - Wealthy\n",
    "    - Very intelligent and ambitious\n",
    "    - Has a lot of connections\n",
    "    - Is in his/her 40s or 50s\n",
    "\n",
    "    Tastes:\n",
    "    - Likes to travel to other countries\n",
    "    - Either read books, collect art or play golf\n",
    "    - Enjoy only the best, most expensive, wines and food\n",
    "    - Dislikes taxes and regulation\n",
    "\n",
    "    Other notable traits:\n",
    "    - Has some stress issues, and might be a bit of a workaholic\n",
    "    - Deep knowledge of finance, economics and financial technology\n",
    "    - Is a bit of a snob\n",
    "    \"\"\"\n",
    "\n",
    "customer_score, customer_justification = TinyPersonValidator.validate_person(customer,\n",
    "                                                                             expectations=customer_expectations, \n",
    "                                                                             include_agent_spec=True, \n",
    "                                                                             max_content_length=None)\n",
    "print(\"Banker score: \", customer_score)\n",
    "print(\"Banker justification: \", customer_justification)"
   ]
  },
  {
   "cell_type": "markdown",
   "metadata": {},
   "source": [
    "We can now perform the interview."
   ]
  },
  {
   "cell_type": "code",
   "execution_count": 6,
   "metadata": {
    "execution": {
     "iopub.execute_input": "2025-07-26T17:10:40.373421Z",
     "iopub.status.busy": "2025-07-26T17:10:40.373421Z",
     "iopub.status.idle": "2025-07-26T17:10:40.393807Z",
     "shell.execute_reply": "2025-07-26T17:10:40.392920Z"
    }
   },
   "outputs": [
    {
     "data": {
      "text/html": [
       "<pre style=\"margin:0px;;white-space:pre;overflow-x:auto;line-height:normal;font-family:Menlo,'DejaVu Sans Mono',consolas,'Courier New',monospace\"><span style=\"color: #7fffff; text-decoration-color: #7fffff; font-style: italic; text-decoration: underline\">Lucas Pereira</span><span style=\"color: #7fffff; text-decoration-color: #7fffff; font-style: italic\"> --&gt; </span><span style=\"color: #7fffff; text-decoration-color: #7fffff; font-style: italic; text-decoration: underline\">Lucas Pereira</span><span style=\"color: #7fffff; text-decoration-color: #7fffff; font-style: italic\">: </span><span style=\"color: #7fffff; text-decoration-color: #7fffff; font-weight: bold; font-style: italic\">[</span><span style=\"color: #7fffff; text-decoration-color: #7fffff; font-style: italic\">THOUGHT</span><span style=\"color: #7fffff; text-decoration-color: #7fffff; font-weight: bold; font-style: italic\">]</span><span style=\"color: #7fffff; text-decoration-color: #7fffff; font-style: italic\"> </span>\n",
       "<span style=\"color: #7fffff; text-decoration-color: #7fffff; font-style: italic\">                   &gt; I am now talking to a business and technology consultant to help me with my</span>\n",
       "<span style=\"color: #7fffff; text-decoration-color: #7fffff; font-style: italic\">                   &gt; professional problems.</span>\n",
       "</pre>\n"
      ],
      "text/plain": [
       "\u001b[2;3;4;38;5;51mLucas Pereira\u001b[0m\u001b[2;3;38;5;51m --> \u001b[0m\u001b[2;3;4;38;5;51mLucas Pereira\u001b[0m\u001b[2;3;38;5;51m: \u001b[0m\u001b[1;2;3;38;5;51m[\u001b[0m\u001b[2;3;38;5;51mTHOUGHT\u001b[0m\u001b[1;2;3;38;5;51m]\u001b[0m\u001b[2;3;38;5;51m \u001b[0m\n",
       "\u001b[2;3;38;5;51m                   > I am now talking to a business and technology consultant to help me with my\u001b[0m\n",
       "\u001b[2;3;38;5;51m                   > professional problems.\u001b[0m\n"
      ]
     },
     "metadata": {},
     "output_type": "display_data"
    },
    {
     "data": {
      "text/plain": [
       "TinyPerson(name='Lucas Pereira')"
      ]
     },
     "execution_count": 6,
     "metadata": {},
     "output_type": "execute_result"
    }
   ],
   "source": [
    "customer.think(\"I am now talking to a business and technology consultant to help me with my professional problems.\")"
   ]
  },
  {
   "cell_type": "code",
   "execution_count": 7,
   "metadata": {
    "execution": {
     "iopub.execute_input": "2025-07-26T17:10:40.397808Z",
     "iopub.status.busy": "2025-07-26T17:10:40.397808Z",
     "iopub.status.idle": "2025-07-26T17:11:10.282270Z",
     "shell.execute_reply": "2025-07-26T17:11:10.281271Z"
    }
   },
   "outputs": [
    {
     "data": {
      "text/html": [
       "<pre style=\"margin:0px;;white-space:pre;overflow-x:auto;line-height:normal;font-family:Menlo,'DejaVu Sans Mono',consolas,'Courier New',monospace\"><span style=\"color: #00ffff; text-decoration-color: #00ffff; font-weight: bold; font-style: italic; text-decoration: underline\">USER</span><span style=\"color: #00ffff; text-decoration-color: #00ffff; font-weight: bold; font-style: italic\"> --&gt; </span><span style=\"color: #00ffff; text-decoration-color: #00ffff; font-weight: bold; font-style: italic; text-decoration: underline\">Lucas Pereira</span><span style=\"color: #00ffff; text-decoration-color: #00ffff; font-weight: bold; font-style: italic\">: [CONVERSATION] </span>\n",
       "<span style=\"color: #00ffff; text-decoration-color: #00ffff; font-weight: bold; font-style: italic\">          &gt; What would you say are your main problems today? Please be as specific as possible.</span>\n",
       "</pre>\n"
      ],
      "text/plain": [
       "\u001b[1;3;4;38;5;51mUSER\u001b[0m\u001b[1;3;38;5;51m --> \u001b[0m\u001b[1;3;4;38;5;51mLucas Pereira\u001b[0m\u001b[1;3;38;5;51m: \u001b[0m\u001b[1;3;38;5;51m[\u001b[0m\u001b[1;3;38;5;51mCONVERSATION\u001b[0m\u001b[1;3;38;5;51m]\u001b[0m\u001b[1;3;38;5;51m \u001b[0m\n",
       "\u001b[1;3;38;5;51m          > What would you say are your main problems today? Please be as specific as possible.\u001b[0m\n"
      ]
     },
     "metadata": {},
     "output_type": "display_data"
    },
    {
     "data": {
      "text/html": [
       "<pre style=\"margin:0px;;white-space:pre;overflow-x:auto;line-height:normal;font-family:Menlo,'DejaVu Sans Mono',consolas,'Courier New',monospace\"><span style=\"color: #00d700; text-decoration-color: #00d700; font-weight: bold; text-decoration: underline\">Lucas Pereira</span><span style=\"color: #00d700; text-decoration-color: #00d700; font-weight: bold\"> acts: [TALK] </span>\n",
       "<span style=\"color: #00d700; text-decoration-color: #00d700; font-weight: bold\">                   &gt; Currently, my main problems revolve around the following areas: </span><span style=\"color: #00d700; text-decoration-color: #00d700; font-weight: bold\">1</span><span style=\"color: #00d700; text-decoration-color: #00d700; font-weight: bold\">. **Innovation</span>\n",
       "<span style=\"color: #00d700; text-decoration-color: #00d700; font-weight: bold\">                   &gt; Pressure**: There is immense pressure from the board to deliver innovative</span>\n",
       "<span style=\"color: #00d700; text-decoration-color: #00d700; font-weight: bold\">                   &gt; financial products quickly, which often leads to stress and burnout within my</span>\n",
       "<span style=\"color: #00d700; text-decoration-color: #00d700; font-weight: bold\">                   &gt; team. </span><span style=\"color: #00d700; text-decoration-color: #00d700; font-weight: bold\">2</span><span style=\"color: #00d700; text-decoration-color: #00d700; font-weight: bold\">. **Regulatory Compliance**: Navigating the complex regulatory landscape</span>\n",
       "<span style=\"color: #00d700; text-decoration-color: #00d700; font-weight: bold\">                   &gt; while trying to innovate can be challenging, as it often slows down our</span>\n",
       "<span style=\"color: #00d700; text-decoration-color: #00d700; font-weight: bold\">                   &gt; development processes. </span><span style=\"color: #00d700; text-decoration-color: #00d700; font-weight: bold\">3</span><span style=\"color: #00d700; text-decoration-color: #00d700; font-weight: bold\">. **Cross-Department Collaboration**: While I believe</span>\n",
       "<span style=\"color: #00d700; text-decoration-color: #00d700; font-weight: bold\">                   &gt; in the importance of collaboration, there are often silos between departments</span>\n",
       "<span style=\"color: #00d700; text-decoration-color: #00d700; font-weight: bold\">                   &gt; that hinder effective communication and project progress. </span><span style=\"color: #00d700; text-decoration-color: #00d700; font-weight: bold\">4</span><span style=\"color: #00d700; text-decoration-color: #00d700; font-weight: bold\">. **Market</span>\n",
       "<span style=\"color: #00d700; text-decoration-color: #00d700; font-weight: bold\">                   &gt; Competition**: The rapid rise of fintech companies poses a significant threat</span>\n",
       "<span style=\"color: #00d700; text-decoration-color: #00d700; font-weight: bold\">                   &gt; to our traditional banking model, and I need to find ways to adapt our</span>\n",
       "<span style=\"color: #00d700; text-decoration-color: #00d700; font-weight: bold\">                   &gt; strategies accordingly. </span><span style=\"color: #00d700; text-decoration-color: #00d700; font-weight: bold\">5</span><span style=\"color: #00d700; text-decoration-color: #00d700; font-weight: bold\">. **Work-Life Balance**: Balancing my professional</span>\n",
       "<span style=\"color: #00d700; text-decoration-color: #00d700; font-weight: bold\">                   &gt; responsibilities with personal life is becoming increasingly difficult, and I</span>\n",
       "<span style=\"color: #00d700; text-decoration-color: #00d700; font-weight: bold\">                   &gt; want to ensure I maintain quality time with my family.</span>\n",
       "</pre>\n"
      ],
      "text/plain": [
       "\u001b[1;4;38;5;40mLucas Pereira\u001b[0m\u001b[1;38;5;40m acts: \u001b[0m\u001b[1;38;5;40m[\u001b[0m\u001b[1;38;5;40mTALK\u001b[0m\u001b[1;38;5;40m]\u001b[0m\u001b[1;38;5;40m \u001b[0m\n",
       "\u001b[1;38;5;40m                   > Currently, my main problems revolve around the following areas: \u001b[0m\u001b[1;38;5;40m1\u001b[0m\u001b[1;38;5;40m. **Innovation\u001b[0m\n",
       "\u001b[1;38;5;40m                   > Pressure**: There is immense pressure from the board to deliver innovative\u001b[0m\n",
       "\u001b[1;38;5;40m                   > financial products quickly, which often leads to stress and burnout within my\u001b[0m\n",
       "\u001b[1;38;5;40m                   > team. \u001b[0m\u001b[1;38;5;40m2\u001b[0m\u001b[1;38;5;40m. **Regulatory Compliance**: Navigating the complex regulatory landscape\u001b[0m\n",
       "\u001b[1;38;5;40m                   > while trying to innovate can be challenging, as it often slows down our\u001b[0m\n",
       "\u001b[1;38;5;40m                   > development processes. \u001b[0m\u001b[1;38;5;40m3\u001b[0m\u001b[1;38;5;40m. **Cross-Department Collaboration**: While I believe\u001b[0m\n",
       "\u001b[1;38;5;40m                   > in the importance of collaboration, there are often silos between departments\u001b[0m\n",
       "\u001b[1;38;5;40m                   > that hinder effective communication and project progress. \u001b[0m\u001b[1;38;5;40m4\u001b[0m\u001b[1;38;5;40m. **Market\u001b[0m\n",
       "\u001b[1;38;5;40m                   > Competition**: The rapid rise of fintech companies poses a significant threat\u001b[0m\n",
       "\u001b[1;38;5;40m                   > to our traditional banking model, and I need to find ways to adapt our\u001b[0m\n",
       "\u001b[1;38;5;40m                   > strategies accordingly. \u001b[0m\u001b[1;38;5;40m5\u001b[0m\u001b[1;38;5;40m. **Work-Life Balance**: Balancing my professional\u001b[0m\n",
       "\u001b[1;38;5;40m                   > responsibilities with personal life is becoming increasingly difficult, and I\u001b[0m\n",
       "\u001b[1;38;5;40m                   > want to ensure I maintain quality time with my family.\u001b[0m\n"
      ]
     },
     "metadata": {},
     "output_type": "display_data"
    },
    {
     "data": {
      "text/html": [
       "<pre style=\"margin:0px;;white-space:pre;overflow-x:auto;line-height:normal;font-family:Menlo,'DejaVu Sans Mono',consolas,'Courier New',monospace\"><span style=\"color: #d0d0d0; text-decoration-color: #d0d0d0; text-decoration: underline\">Lucas Pereira</span><span style=\"color: #d0d0d0; text-decoration-color: #d0d0d0\"> acts: </span><span style=\"color: #d0d0d0; text-decoration-color: #d0d0d0; font-weight: bold\">[</span><span style=\"color: #d0d0d0; text-decoration-color: #d0d0d0\">DONE</span><span style=\"color: #d0d0d0; text-decoration-color: #d0d0d0; font-weight: bold\">]</span><span style=\"color: #d0d0d0; text-decoration-color: #d0d0d0\"> </span>\n",
       "\n",
       "</pre>\n"
      ],
      "text/plain": [
       "\u001b[4;38;5;252mLucas Pereira\u001b[0m\u001b[38;5;252m acts: \u001b[0m\u001b[1;38;5;252m[\u001b[0m\u001b[38;5;252mDONE\u001b[0m\u001b[1;38;5;252m]\u001b[0m\u001b[38;5;252m \u001b[0m\n",
       "\n"
      ]
     },
     "metadata": {},
     "output_type": "display_data"
    }
   ],
   "source": [
    "customer.listen_and_act(\"What would you say are your main problems today? Please be as specific as possible.\", \n",
    "                        max_content_length=3000)"
   ]
  },
  {
   "cell_type": "code",
   "execution_count": 8,
   "metadata": {
    "execution": {
     "iopub.execute_input": "2025-07-26T17:11:10.287546Z",
     "iopub.status.busy": "2025-07-26T17:11:10.287546Z",
     "iopub.status.idle": "2025-07-26T17:11:21.659622Z",
     "shell.execute_reply": "2025-07-26T17:11:21.657606Z"
    }
   },
   "outputs": [
    {
     "data": {
      "text/html": [
       "<pre style=\"margin:0px;;white-space:pre;overflow-x:auto;line-height:normal;font-family:Menlo,'DejaVu Sans Mono',consolas,'Courier New',monospace\"><span style=\"color: #00ffff; text-decoration-color: #00ffff; font-weight: bold; font-style: italic; text-decoration: underline\">USER</span><span style=\"color: #00ffff; text-decoration-color: #00ffff; font-weight: bold; font-style: italic\"> --&gt; </span><span style=\"color: #00ffff; text-decoration-color: #00ffff; font-weight: bold; font-style: italic; text-decoration: underline\">Lucas Pereira</span><span style=\"color: #00ffff; text-decoration-color: #00ffff; font-weight: bold; font-style: italic\">: [CONVERSATION] </span>\n",
       "<span style=\"color: #00ffff; text-decoration-color: #00ffff; font-weight: bold; font-style: italic\">          &gt; Can you elaborate on the fintechs?</span>\n",
       "</pre>\n"
      ],
      "text/plain": [
       "\u001b[1;3;4;38;5;51mUSER\u001b[0m\u001b[1;3;38;5;51m --> \u001b[0m\u001b[1;3;4;38;5;51mLucas Pereira\u001b[0m\u001b[1;3;38;5;51m: \u001b[0m\u001b[1;3;38;5;51m[\u001b[0m\u001b[1;3;38;5;51mCONVERSATION\u001b[0m\u001b[1;3;38;5;51m]\u001b[0m\u001b[1;3;38;5;51m \u001b[0m\n",
       "\u001b[1;3;38;5;51m          > Can you elaborate on the fintechs?\u001b[0m\n"
      ]
     },
     "metadata": {},
     "output_type": "display_data"
    },
    {
     "data": {
      "text/html": [
       "<pre style=\"margin:0px;;white-space:pre;overflow-x:auto;line-height:normal;font-family:Menlo,'DejaVu Sans Mono',consolas,'Courier New',monospace\"><span style=\"color: #00d700; text-decoration-color: #00d700; font-weight: bold; text-decoration: underline\">Lucas Pereira</span><span style=\"color: #00d700; text-decoration-color: #00d700; font-weight: bold\"> acts: [TALK] </span>\n",
       "<span style=\"color: #00d700; text-decoration-color: #00d700; font-weight: bold\">                   &gt; Certainly! Fintechs, or financial technology companies, are businesses that</span>\n",
       "<span style=\"color: #00d700; text-decoration-color: #00d700; font-weight: bold\">                   &gt; leverage technology to provide financial services in a more efficient and user-</span>\n",
       "<span style=\"color: #00d700; text-decoration-color: #00d700; font-weight: bold\">                   &gt; friendly manner. They often focus on areas such as: </span><span style=\"color: #00d700; text-decoration-color: #00d700; font-weight: bold\">1</span><span style=\"color: #00d700; text-decoration-color: #00d700; font-weight: bold\">. **Digital Payments**:</span>\n",
       "<span style=\"color: #00d700; text-decoration-color: #00d700; font-weight: bold\">                   &gt; Many fintechs offer platforms for seamless online payments, peer-to-peer</span>\n",
       "<span style=\"color: #00d700; text-decoration-color: #00d700; font-weight: bold\">                   &gt; transfers, and mobile wallets, making transactions faster and more convenient.</span>\n",
       "<span style=\"color: #00d700; text-decoration-color: #00d700; font-weight: bold\">                   &gt; </span><span style=\"color: #00d700; text-decoration-color: #00d700; font-weight: bold\">2</span><span style=\"color: #00d700; text-decoration-color: #00d700; font-weight: bold\">. **Lending**: Some fintechs specialize in providing loans through online</span>\n",
       "<span style=\"color: #00d700; text-decoration-color: #00d700; font-weight: bold\">                   &gt; platforms, often using alternative data to assess creditworthiness, which can</span>\n",
       "<span style=\"color: #00d700; text-decoration-color: #00d700; font-weight: bold\">                   &gt; lead to quicker approvals and lower interest rates. </span><span style=\"color: #00d700; text-decoration-color: #00d700; font-weight: bold\">3</span><span style=\"color: #00d700; text-decoration-color: #00d700; font-weight: bold\">. **Investment Services**:</span>\n",
       "<span style=\"color: #00d700; text-decoration-color: #00d700; font-weight: bold\">                   &gt; Fintechs have emerged in the investment space, offering robo-advisors and</span>\n",
       "<span style=\"color: #00d700; text-decoration-color: #00d700; font-weight: bold\">                   &gt; platforms that allow individuals to invest with lower fees and minimums</span>\n",
       "<span style=\"color: #00d700; text-decoration-color: #00d700; font-weight: bold\">                   &gt; compared to traditional brokers. </span><span style=\"color: #00d700; text-decoration-color: #00d700; font-weight: bold\">4</span><span style=\"color: #00d700; text-decoration-color: #00d700; font-weight: bold\">. **Personal Finance Management**: Many</span>\n",
       "<span style=\"color: #00d700; text-decoration-color: #00d700; font-weight: bold\">                   &gt; fintech applications help users manage their finances by tracking spending,</span>\n",
       "<span style=\"color: #00d700; text-decoration-color: #00d700; font-weight: bold\">                   &gt; budgeting, and providing insights into saving habits. </span><span style=\"color: #00d700; text-decoration-color: #00d700; font-weight: bold\">5</span><span style=\"color: #00d700; text-decoration-color: #00d700; font-weight: bold\">. **Blockchain and</span>\n",
       "<span style=\"color: #00d700; text-decoration-color: #00d700; font-weight: bold\">                   &gt; Cryptocurrencies**: Some fintechs are at the forefront of blockchain</span>\n",
       "<span style=\"color: #00d700; text-decoration-color: #00d700; font-weight: bold\">                   &gt; technology, offering services related to cryptocurrencies, including trading</span>\n",
       "<span style=\"color: #00d700; text-decoration-color: #00d700; font-weight: bold\">                   &gt; platforms and digital wallets.  The rise of fintechs poses a significant</span>\n",
       "<span style=\"color: #00d700; text-decoration-color: #00d700; font-weight: bold\">                   &gt; challenge to traditional banks, as they often provide more agile and customer-</span>\n",
       "<span style=\"color: #00d700; text-decoration-color: #00d700; font-weight: bold\">                   &gt; centric solutions. This is why it's crucial for established banks like mine to</span>\n",
       "<span style=\"color: #00d700; text-decoration-color: #00d700; font-weight: bold\">                   &gt; innovate and adapt to these changes.</span>\n",
       "</pre>\n"
      ],
      "text/plain": [
       "\u001b[1;4;38;5;40mLucas Pereira\u001b[0m\u001b[1;38;5;40m acts: \u001b[0m\u001b[1;38;5;40m[\u001b[0m\u001b[1;38;5;40mTALK\u001b[0m\u001b[1;38;5;40m]\u001b[0m\u001b[1;38;5;40m \u001b[0m\n",
       "\u001b[1;38;5;40m                   > Certainly! Fintechs, or financial technology companies, are businesses that\u001b[0m\n",
       "\u001b[1;38;5;40m                   > leverage technology to provide financial services in a more efficient and user-\u001b[0m\n",
       "\u001b[1;38;5;40m                   > friendly manner. They often focus on areas such as: \u001b[0m\u001b[1;38;5;40m1\u001b[0m\u001b[1;38;5;40m. **Digital Payments**:\u001b[0m\n",
       "\u001b[1;38;5;40m                   > Many fintechs offer platforms for seamless online payments, peer-to-peer\u001b[0m\n",
       "\u001b[1;38;5;40m                   > transfers, and mobile wallets, making transactions faster and more convenient.\u001b[0m\n",
       "\u001b[1;38;5;40m                   > \u001b[0m\u001b[1;38;5;40m2\u001b[0m\u001b[1;38;5;40m. **Lending**: Some fintechs specialize in providing loans through online\u001b[0m\n",
       "\u001b[1;38;5;40m                   > platforms, often using alternative data to assess creditworthiness, which can\u001b[0m\n",
       "\u001b[1;38;5;40m                   > lead to quicker approvals and lower interest rates. \u001b[0m\u001b[1;38;5;40m3\u001b[0m\u001b[1;38;5;40m. **Investment Services**:\u001b[0m\n",
       "\u001b[1;38;5;40m                   > Fintechs have emerged in the investment space, offering robo-advisors and\u001b[0m\n",
       "\u001b[1;38;5;40m                   > platforms that allow individuals to invest with lower fees and minimums\u001b[0m\n",
       "\u001b[1;38;5;40m                   > compared to traditional brokers. \u001b[0m\u001b[1;38;5;40m4\u001b[0m\u001b[1;38;5;40m. **Personal Finance Management**: Many\u001b[0m\n",
       "\u001b[1;38;5;40m                   > fintech applications help users manage their finances by tracking spending,\u001b[0m\n",
       "\u001b[1;38;5;40m                   > budgeting, and providing insights into saving habits. \u001b[0m\u001b[1;38;5;40m5\u001b[0m\u001b[1;38;5;40m. **Blockchain and\u001b[0m\n",
       "\u001b[1;38;5;40m                   > Cryptocurrencies**: Some fintechs are at the forefront of blockchain\u001b[0m\n",
       "\u001b[1;38;5;40m                   > technology, offering services related to cryptocurrencies, including trading\u001b[0m\n",
       "\u001b[1;38;5;40m                   > platforms and digital wallets.  The rise of fintechs poses a significant\u001b[0m\n",
       "\u001b[1;38;5;40m                   > challenge to traditional banks, as they often provide more agile and customer-\u001b[0m\n",
       "\u001b[1;38;5;40m                   > centric solutions. This is why it's crucial for established banks like mine to\u001b[0m\n",
       "\u001b[1;38;5;40m                   > innovate and adapt to these changes.\u001b[0m\n"
      ]
     },
     "metadata": {},
     "output_type": "display_data"
    },
    {
     "data": {
      "text/html": [
       "<pre style=\"margin:0px;;white-space:pre;overflow-x:auto;line-height:normal;font-family:Menlo,'DejaVu Sans Mono',consolas,'Courier New',monospace\"><span style=\"color: #d0d0d0; text-decoration-color: #d0d0d0; text-decoration: underline\">Lucas Pereira</span><span style=\"color: #d0d0d0; text-decoration-color: #d0d0d0\"> acts: </span><span style=\"color: #d0d0d0; text-decoration-color: #d0d0d0; font-weight: bold\">[</span><span style=\"color: #d0d0d0; text-decoration-color: #d0d0d0\">DONE</span><span style=\"color: #d0d0d0; text-decoration-color: #d0d0d0; font-weight: bold\">]</span><span style=\"color: #d0d0d0; text-decoration-color: #d0d0d0\"> </span>\n",
       "\n",
       "</pre>\n"
      ],
      "text/plain": [
       "\u001b[4;38;5;252mLucas Pereira\u001b[0m\u001b[38;5;252m acts: \u001b[0m\u001b[1;38;5;252m[\u001b[0m\u001b[38;5;252mDONE\u001b[0m\u001b[1;38;5;252m]\u001b[0m\u001b[38;5;252m \u001b[0m\n",
       "\n"
      ]
     },
     "metadata": {},
     "output_type": "display_data"
    }
   ],
   "source": [
    "customer.listen_and_act(\"Can you elaborate on the fintechs?\", max_content_length=3000)"
   ]
  },
  {
   "cell_type": "code",
   "execution_count": 9,
   "metadata": {
    "execution": {
     "iopub.execute_input": "2025-07-26T17:11:21.665448Z",
     "iopub.status.busy": "2025-07-26T17:11:21.664324Z",
     "iopub.status.idle": "2025-07-26T17:11:33.883900Z",
     "shell.execute_reply": "2025-07-26T17:11:33.881898Z"
    }
   },
   "outputs": [
    {
     "data": {
      "text/html": [
       "<pre style=\"margin:0px;;white-space:pre;overflow-x:auto;line-height:normal;font-family:Menlo,'DejaVu Sans Mono',consolas,'Courier New',monospace\"><span style=\"color: #00ffff; text-decoration-color: #00ffff; font-weight: bold; font-style: italic; text-decoration: underline\">USER</span><span style=\"color: #00ffff; text-decoration-color: #00ffff; font-weight: bold; font-style: italic\"> --&gt; </span><span style=\"color: #00ffff; text-decoration-color: #00ffff; font-weight: bold; font-style: italic; text-decoration: underline\">Lucas Pereira</span><span style=\"color: #00ffff; text-decoration-color: #00ffff; font-weight: bold; font-style: italic\">: [CONVERSATION] </span>\n",
       "<span style=\"color: #00ffff; text-decoration-color: #00ffff; font-weight: bold; font-style: italic\">          &gt; If you could improve in one of these aspects to better compete, what would that be?</span>\n",
       "</pre>\n"
      ],
      "text/plain": [
       "\u001b[1;3;4;38;5;51mUSER\u001b[0m\u001b[1;3;38;5;51m --> \u001b[0m\u001b[1;3;4;38;5;51mLucas Pereira\u001b[0m\u001b[1;3;38;5;51m: \u001b[0m\u001b[1;3;38;5;51m[\u001b[0m\u001b[1;3;38;5;51mCONVERSATION\u001b[0m\u001b[1;3;38;5;51m]\u001b[0m\u001b[1;3;38;5;51m \u001b[0m\n",
       "\u001b[1;3;38;5;51m          > If you could improve in one of these aspects to better compete, what would that be?\u001b[0m\n"
      ]
     },
     "metadata": {},
     "output_type": "display_data"
    },
    {
     "data": {
      "text/html": [
       "<pre style=\"margin:0px;;white-space:pre;overflow-x:auto;line-height:normal;font-family:Menlo,'DejaVu Sans Mono',consolas,'Courier New',monospace\"><span style=\"color: #00d700; text-decoration-color: #00d700; font-weight: bold; text-decoration: underline\">Lucas Pereira</span><span style=\"color: #00d700; text-decoration-color: #00d700; font-weight: bold\"> acts: [TALK] </span>\n",
       "<span style=\"color: #00d700; text-decoration-color: #00d700; font-weight: bold\">                   &gt; If I could improve in one aspect to better compete with fintechs, it would be</span>\n",
       "<span style=\"color: #00d700; text-decoration-color: #00d700; font-weight: bold\">                   &gt; enhancing our digital customer experience. This includes streamlining our</span>\n",
       "<span style=\"color: #00d700; text-decoration-color: #00d700; font-weight: bold\">                   &gt; online banking platform, making it more user-friendly, and integrating advanced</span>\n",
       "<span style=\"color: #00d700; text-decoration-color: #00d700; font-weight: bold\">                   &gt; features such as personalized financial advice and real-time support. By</span>\n",
       "<span style=\"color: #00d700; text-decoration-color: #00d700; font-weight: bold\">                   &gt; focusing on creating a seamless and engaging digital experience, we can attract</span>\n",
       "<span style=\"color: #00d700; text-decoration-color: #00d700; font-weight: bold\">                   &gt; and retain customers who are increasingly looking for convenience and</span>\n",
       "<span style=\"color: #00d700; text-decoration-color: #00d700; font-weight: bold\">                   &gt; efficiency in their banking services.</span>\n",
       "</pre>\n"
      ],
      "text/plain": [
       "\u001b[1;4;38;5;40mLucas Pereira\u001b[0m\u001b[1;38;5;40m acts: \u001b[0m\u001b[1;38;5;40m[\u001b[0m\u001b[1;38;5;40mTALK\u001b[0m\u001b[1;38;5;40m]\u001b[0m\u001b[1;38;5;40m \u001b[0m\n",
       "\u001b[1;38;5;40m                   > If I could improve in one aspect to better compete with fintechs, it would be\u001b[0m\n",
       "\u001b[1;38;5;40m                   > enhancing our digital customer experience. This includes streamlining our\u001b[0m\n",
       "\u001b[1;38;5;40m                   > online banking platform, making it more user-friendly, and integrating advanced\u001b[0m\n",
       "\u001b[1;38;5;40m                   > features such as personalized financial advice and real-time support. By\u001b[0m\n",
       "\u001b[1;38;5;40m                   > focusing on creating a seamless and engaging digital experience, we can attract\u001b[0m\n",
       "\u001b[1;38;5;40m                   > and retain customers who are increasingly looking for convenience and\u001b[0m\n",
       "\u001b[1;38;5;40m                   > efficiency in their banking services.\u001b[0m\n"
      ]
     },
     "metadata": {},
     "output_type": "display_data"
    },
    {
     "data": {
      "text/html": [
       "<pre style=\"margin:0px;;white-space:pre;overflow-x:auto;line-height:normal;font-family:Menlo,'DejaVu Sans Mono',consolas,'Courier New',monospace\"><span style=\"color: #d0d0d0; text-decoration-color: #d0d0d0; text-decoration: underline\">Lucas Pereira</span><span style=\"color: #d0d0d0; text-decoration-color: #d0d0d0\"> acts: </span><span style=\"color: #d0d0d0; text-decoration-color: #d0d0d0; font-weight: bold\">[</span><span style=\"color: #d0d0d0; text-decoration-color: #d0d0d0\">DONE</span><span style=\"color: #d0d0d0; text-decoration-color: #d0d0d0; font-weight: bold\">]</span><span style=\"color: #d0d0d0; text-decoration-color: #d0d0d0\"> </span>\n",
       "\n",
       "</pre>\n"
      ],
      "text/plain": [
       "\u001b[4;38;5;252mLucas Pereira\u001b[0m\u001b[38;5;252m acts: \u001b[0m\u001b[1;38;5;252m[\u001b[0m\u001b[38;5;252mDONE\u001b[0m\u001b[1;38;5;252m]\u001b[0m\u001b[38;5;252m \u001b[0m\n",
       "\n"
      ]
     },
     "metadata": {},
     "output_type": "display_data"
    },
    {
     "ename": "AttributeError",
     "evalue": "property 'text' of 'Document' object has no setter",
     "output_type": "error",
     "traceback": [
      "\u001b[31m---------------------------------------------------------------------------\u001b[39m",
      "\u001b[31mAttributeError\u001b[39m                            Traceback (most recent call last)",
      "\u001b[36mCell\u001b[39m\u001b[36m \u001b[39m\u001b[32mIn[9]\u001b[39m\u001b[32m, line 1\u001b[39m\n\u001b[32m----> \u001b[39m\u001b[32m1\u001b[39m \u001b[43mcustomer\u001b[49m\u001b[43m.\u001b[49m\u001b[43mlisten_and_act\u001b[49m\u001b[43m(\u001b[49m\u001b[33;43m\"\u001b[39;49m\u001b[33;43mIf you could improve in one of these aspects to better compete, what would that be?\u001b[39;49m\u001b[33;43m\"\u001b[39;49m\u001b[43m,\u001b[49m\u001b[43m \u001b[49m\u001b[43mmax_content_length\u001b[49m\u001b[43m=\u001b[49m\u001b[32;43m3000\u001b[39;49m\u001b[43m)\u001b[49m\n",
      "\u001b[36mFile \u001b[39m\u001b[32m~/TinyTroupe/tinytroupe/examples/../tinytroupe/control.py:747\u001b[39m, in \u001b[36mtransactional.<locals>.decorator.<locals>.wrapper\u001b[39m\u001b[34m(*args, **kwargs)\u001b[39m\n\u001b[32m    744\u001b[39m parallel_id = \u001b[38;5;28mstr\u001b[39m(threading.current_thread())\n\u001b[32m    746\u001b[39m transaction = Transaction(obj_under_transaction, simulation, func, *args, **kwargs)\n\u001b[32m--> \u001b[39m\u001b[32m747\u001b[39m result = \u001b[43mtransaction\u001b[49m\u001b[43m.\u001b[49m\u001b[43mexecute\u001b[49m\u001b[43m(\u001b[49m\u001b[43mbegin_parallel\u001b[49m\u001b[43m=\u001b[49m\u001b[43mparallel\u001b[49m\u001b[43m,\u001b[49m\u001b[43m \u001b[49m\u001b[43mparallel_id\u001b[49m\u001b[43m=\u001b[49m\u001b[43mparallel_id\u001b[49m\u001b[43m)\u001b[49m\n\u001b[32m    749\u001b[39m \u001b[38;5;28;01mreturn\u001b[39;00m result\n",
      "\u001b[36mFile \u001b[39m\u001b[32m~/TinyTroupe/tinytroupe/examples/../tinytroupe/control.py:552\u001b[39m, in \u001b[36mTransaction.execute\u001b[39m\u001b[34m(self, begin_parallel, parallel_id)\u001b[39m\n\u001b[32m    549\u001b[39m \u001b[38;5;66;03m# Transaction caching will only operate if there is a simulation and it is started\u001b[39;00m\n\u001b[32m    550\u001b[39m \u001b[38;5;28;01mif\u001b[39;00m \u001b[38;5;28mself\u001b[39m.simulation \u001b[38;5;129;01mis\u001b[39;00m \u001b[38;5;28;01mNone\u001b[39;00m \u001b[38;5;129;01mor\u001b[39;00m \u001b[38;5;28mself\u001b[39m.simulation.status == Simulation.STATUS_STOPPED:\n\u001b[32m    551\u001b[39m     \u001b[38;5;66;03m# Compute the function and return it, no caching, since the simulation is not started\u001b[39;00m\n\u001b[32m--> \u001b[39m\u001b[32m552\u001b[39m     output = \u001b[38;5;28;43mself\u001b[39;49m\u001b[43m.\u001b[49m\u001b[43mfunction\u001b[49m\u001b[43m(\u001b[49m\u001b[43m*\u001b[49m\u001b[38;5;28;43mself\u001b[39;49m\u001b[43m.\u001b[49m\u001b[43margs\u001b[49m\u001b[43m,\u001b[49m\u001b[43m \u001b[49m\u001b[43m*\u001b[49m\u001b[43m*\u001b[49m\u001b[38;5;28;43mself\u001b[39;49m\u001b[43m.\u001b[49m\u001b[43mkwargs\u001b[49m\u001b[43m)\u001b[49m\n\u001b[32m    554\u001b[39m \u001b[38;5;28;01melif\u001b[39;00m \u001b[38;5;28mself\u001b[39m.simulation.status == Simulation.STATUS_STARTED:\n\u001b[32m    555\u001b[39m     \u001b[38;5;66;03m# Compute the event hash\u001b[39;00m\n\u001b[32m    556\u001b[39m     event_hash = \u001b[38;5;28mself\u001b[39m.simulation._function_call_hash(\u001b[38;5;28mself\u001b[39m.function_name, *\u001b[38;5;28mself\u001b[39m.args, **\u001b[38;5;28mself\u001b[39m.kwargs)\n",
      "\u001b[36mFile \u001b[39m\u001b[32m~/TinyTroupe/tinytroupe/examples/../tinytroupe/agent/tiny_person.py:835\u001b[39m, in \u001b[36mTinyPerson.listen_and_act\u001b[39m\u001b[34m(self, speech, return_actions, max_content_length, communication_display)\u001b[39m\n\u001b[32m    830\u001b[39m \u001b[38;5;250m\u001b[39m\u001b[33;03m\"\"\"\u001b[39;00m\n\u001b[32m    831\u001b[39m \u001b[33;03mConvenience method that combines the `listen` and `act` methods.\u001b[39;00m\n\u001b[32m    832\u001b[39m \u001b[33;03m\"\"\"\u001b[39;00m\n\u001b[32m    834\u001b[39m \u001b[38;5;28mself\u001b[39m.listen(speech, max_content_length=max_content_length, communication_display=communication_display)\n\u001b[32m--> \u001b[39m\u001b[32m835\u001b[39m \u001b[38;5;28;01mreturn\u001b[39;00m \u001b[38;5;28;43mself\u001b[39;49m\u001b[43m.\u001b[49m\u001b[43mact\u001b[49m\u001b[43m(\u001b[49m\n\u001b[32m    836\u001b[39m \u001b[43m    \u001b[49m\u001b[43mreturn_actions\u001b[49m\u001b[43m=\u001b[49m\u001b[43mreturn_actions\u001b[49m\u001b[43m,\u001b[49m\u001b[43m \u001b[49m\u001b[43mmax_content_length\u001b[49m\u001b[43m=\u001b[49m\u001b[43mmax_content_length\u001b[49m\u001b[43m,\u001b[49m\u001b[43m \u001b[49m\u001b[43mcommunication_display\u001b[49m\u001b[43m=\u001b[49m\u001b[43mcommunication_display\u001b[49m\n\u001b[32m    837\u001b[39m \u001b[43m\u001b[49m\u001b[43m)\u001b[49m\n",
      "\u001b[36mFile \u001b[39m\u001b[32m~/TinyTroupe/tinytroupe/examples/../tinytroupe/control.py:747\u001b[39m, in \u001b[36mtransactional.<locals>.decorator.<locals>.wrapper\u001b[39m\u001b[34m(*args, **kwargs)\u001b[39m\n\u001b[32m    744\u001b[39m parallel_id = \u001b[38;5;28mstr\u001b[39m(threading.current_thread())\n\u001b[32m    746\u001b[39m transaction = Transaction(obj_under_transaction, simulation, func, *args, **kwargs)\n\u001b[32m--> \u001b[39m\u001b[32m747\u001b[39m result = \u001b[43mtransaction\u001b[49m\u001b[43m.\u001b[49m\u001b[43mexecute\u001b[49m\u001b[43m(\u001b[49m\u001b[43mbegin_parallel\u001b[49m\u001b[43m=\u001b[49m\u001b[43mparallel\u001b[49m\u001b[43m,\u001b[49m\u001b[43m \u001b[49m\u001b[43mparallel_id\u001b[49m\u001b[43m=\u001b[49m\u001b[43mparallel_id\u001b[49m\u001b[43m)\u001b[49m\n\u001b[32m    749\u001b[39m \u001b[38;5;28;01mreturn\u001b[39;00m result\n",
      "\u001b[36mFile \u001b[39m\u001b[32m~/TinyTroupe/tinytroupe/examples/../tinytroupe/control.py:552\u001b[39m, in \u001b[36mTransaction.execute\u001b[39m\u001b[34m(self, begin_parallel, parallel_id)\u001b[39m\n\u001b[32m    549\u001b[39m \u001b[38;5;66;03m# Transaction caching will only operate if there is a simulation and it is started\u001b[39;00m\n\u001b[32m    550\u001b[39m \u001b[38;5;28;01mif\u001b[39;00m \u001b[38;5;28mself\u001b[39m.simulation \u001b[38;5;129;01mis\u001b[39;00m \u001b[38;5;28;01mNone\u001b[39;00m \u001b[38;5;129;01mor\u001b[39;00m \u001b[38;5;28mself\u001b[39m.simulation.status == Simulation.STATUS_STOPPED:\n\u001b[32m    551\u001b[39m     \u001b[38;5;66;03m# Compute the function and return it, no caching, since the simulation is not started\u001b[39;00m\n\u001b[32m--> \u001b[39m\u001b[32m552\u001b[39m     output = \u001b[38;5;28;43mself\u001b[39;49m\u001b[43m.\u001b[49m\u001b[43mfunction\u001b[49m\u001b[43m(\u001b[49m\u001b[43m*\u001b[49m\u001b[38;5;28;43mself\u001b[39;49m\u001b[43m.\u001b[49m\u001b[43margs\u001b[49m\u001b[43m,\u001b[49m\u001b[43m \u001b[49m\u001b[43m*\u001b[49m\u001b[43m*\u001b[49m\u001b[38;5;28;43mself\u001b[39;49m\u001b[43m.\u001b[49m\u001b[43mkwargs\u001b[49m\u001b[43m)\u001b[49m\n\u001b[32m    554\u001b[39m \u001b[38;5;28;01melif\u001b[39;00m \u001b[38;5;28mself\u001b[39m.simulation.status == Simulation.STATUS_STARTED:\n\u001b[32m    555\u001b[39m     \u001b[38;5;66;03m# Compute the event hash\u001b[39;00m\n\u001b[32m    556\u001b[39m     event_hash = \u001b[38;5;28mself\u001b[39m.simulation._function_call_hash(\u001b[38;5;28mself\u001b[39m.function_name, *\u001b[38;5;28mself\u001b[39m.args, **\u001b[38;5;28mself\u001b[39m.kwargs)\n",
      "\u001b[36mFile \u001b[39m\u001b[32m~/TinyTroupe/tinytroupe/examples/../tinytroupe/__init__.py:187\u001b[39m, in \u001b[36mConfigManager.config_defaults.<locals>.decorator.<locals>.wrapper\u001b[39m\u001b[34m(*args, **kwargs)\u001b[39m\n\u001b[32m    184\u001b[39m     \u001b[38;5;28;01mif\u001b[39;00m param_name \u001b[38;5;129;01min\u001b[39;00m bound_args.arguments \u001b[38;5;129;01mand\u001b[39;00m bound_args.arguments[param_name] \u001b[38;5;129;01mis\u001b[39;00m \u001b[38;5;28;01mNone\u001b[39;00m:\n\u001b[32m    185\u001b[39m         kwargs[param_name] = \u001b[38;5;28mself\u001b[39m.get(config_key)\n\u001b[32m--> \u001b[39m\u001b[32m187\u001b[39m \u001b[38;5;28;01mreturn\u001b[39;00m \u001b[43mfunc\u001b[49m\u001b[43m(\u001b[49m\u001b[43m*\u001b[49m\u001b[43margs\u001b[49m\u001b[43m,\u001b[49m\u001b[43m \u001b[49m\u001b[43m*\u001b[49m\u001b[43m*\u001b[49m\u001b[43mkwargs\u001b[49m\u001b[43m)\u001b[49m\n",
      "\u001b[36mFile \u001b[39m\u001b[32m~/TinyTroupe/tinytroupe/examples/../tinytroupe/agent/tiny_person.py:672\u001b[39m, in \u001b[36mTinyPerson.act\u001b[39m\u001b[34m(self, until_done, n, return_actions, max_content_length, communication_display)\u001b[39m\n\u001b[32m    669\u001b[39m         aux_act_once()\n\u001b[32m    671\u001b[39m \u001b[38;5;66;03m# The end of a sequence of actions is always considered to mark the end of an episode.\u001b[39;00m\n\u001b[32m--> \u001b[39m\u001b[32m672\u001b[39m \u001b[38;5;28;43mself\u001b[39;49m\u001b[43m.\u001b[49m\u001b[43mconsolidate_episode_memories\u001b[49m\u001b[43m(\u001b[49m\u001b[43m)\u001b[49m\n\u001b[32m    674\u001b[39m \u001b[38;5;28;01mif\u001b[39;00m return_actions:\n\u001b[32m    675\u001b[39m     \u001b[38;5;28;01mreturn\u001b[39;00m contents\n",
      "\u001b[36mFile \u001b[39m\u001b[32m~/TinyTroupe/tinytroupe/examples/../tinytroupe/agent/tiny_person.py:1062\u001b[39m, in \u001b[36mTinyPerson.consolidate_episode_memories\u001b[39m\u001b[34m(self)\u001b[39m\n\u001b[32m   1060\u001b[39m     logger.info(\u001b[33mf\u001b[39m\u001b[33m\"\u001b[39m\u001b[33m[\u001b[39m\u001b[38;5;132;01m{\u001b[39;00m\u001b[38;5;28mself\u001b[39m.name\u001b[38;5;132;01m}\u001b[39;00m\u001b[33m] Consolidating current \u001b[39m\u001b[38;5;132;01m{\u001b[39;00m\u001b[38;5;28mlen\u001b[39m(episode)\u001b[38;5;132;01m}\u001b[39;00m\u001b[33m episodic events as consolidated semantic memories.\u001b[39m\u001b[33m\"\u001b[39m)\n\u001b[32m   1061\u001b[39m     logger.debug(\u001b[33mf\u001b[39m\u001b[33m\"\u001b[39m\u001b[33m[\u001b[39m\u001b[38;5;132;01m{\u001b[39;00m\u001b[38;5;28mself\u001b[39m.name\u001b[38;5;132;01m}\u001b[39;00m\u001b[33m] Consolidated memories: \u001b[39m\u001b[38;5;132;01m{\u001b[39;00mconsolidated_memories\u001b[38;5;132;01m}\u001b[39;00m\u001b[33m\"\u001b[39m)\n\u001b[32m-> \u001b[39m\u001b[32m1062\u001b[39m     \u001b[38;5;28;43mself\u001b[39;49m\u001b[43m.\u001b[49m\u001b[43msemantic_memory\u001b[49m\u001b[43m.\u001b[49m\u001b[43mstore_all\u001b[49m\u001b[43m(\u001b[49m\u001b[43mconsolidated_memories\u001b[49m\u001b[43m)\u001b[49m\n\u001b[32m   1063\u001b[39m \u001b[38;5;28;01melse\u001b[39;00m:\n\u001b[32m   1064\u001b[39m     logger.warning(\u001b[33mf\u001b[39m\u001b[33m\"\u001b[39m\u001b[33m[\u001b[39m\u001b[38;5;132;01m{\u001b[39;00m\u001b[38;5;28mself\u001b[39m.name\u001b[38;5;132;01m}\u001b[39;00m\u001b[33m] No memories to consolidate from the current episode.\u001b[39m\u001b[33m\"\u001b[39m)\n",
      "\u001b[36mFile \u001b[39m\u001b[32m~/TinyTroupe/tinytroupe/examples/../tinytroupe/agent/memory.py:49\u001b[39m, in \u001b[36mTinyMemory.store_all\u001b[39m\u001b[34m(self, values)\u001b[39m\n\u001b[32m     47\u001b[39m \u001b[38;5;28;01mfor\u001b[39;00m i, value \u001b[38;5;129;01min\u001b[39;00m \u001b[38;5;28menumerate\u001b[39m(values):\n\u001b[32m     48\u001b[39m     logger.debug(\u001b[33mf\u001b[39m\u001b[33m\"\u001b[39m\u001b[33mStoring value #\u001b[39m\u001b[38;5;132;01m{\u001b[39;00mi\u001b[38;5;132;01m}\u001b[39;00m\u001b[33m: \u001b[39m\u001b[38;5;132;01m{\u001b[39;00mvalue\u001b[38;5;132;01m}\u001b[39;00m\u001b[33m\"\u001b[39m)\n\u001b[32m---> \u001b[39m\u001b[32m49\u001b[39m     \u001b[38;5;28;43mself\u001b[39;49m\u001b[43m.\u001b[49m\u001b[43mstore\u001b[49m\u001b[43m(\u001b[49m\u001b[43mvalue\u001b[49m\u001b[43m)\u001b[49m\n",
      "\u001b[36mFile \u001b[39m\u001b[32m~/TinyTroupe/tinytroupe/examples/../tinytroupe/agent/memory.py:40\u001b[39m, in \u001b[36mTinyMemory.store\u001b[39m\u001b[34m(self, value)\u001b[39m\n\u001b[32m     36\u001b[39m \u001b[38;5;28;01mdef\u001b[39;00m\u001b[38;5;250m \u001b[39m\u001b[34mstore\u001b[39m(\u001b[38;5;28mself\u001b[39m, value: \u001b[38;5;28mdict\u001b[39m) -> \u001b[38;5;28;01mNone\u001b[39;00m:\n\u001b[32m     37\u001b[39m \u001b[38;5;250m    \u001b[39m\u001b[33;03m\"\"\"\u001b[39;00m\n\u001b[32m     38\u001b[39m \u001b[33;03m    Stores a value in memory.\u001b[39;00m\n\u001b[32m     39\u001b[39m \u001b[33;03m    \"\"\"\u001b[39;00m\n\u001b[32m---> \u001b[39m\u001b[32m40\u001b[39m     \u001b[38;5;28;43mself\u001b[39;49m\u001b[43m.\u001b[49m\u001b[43m_store\u001b[49m\u001b[43m(\u001b[49m\u001b[38;5;28;43mself\u001b[39;49m\u001b[43m.\u001b[49m\u001b[43m_preprocess_value_for_storage\u001b[49m\u001b[43m(\u001b[49m\u001b[43mvalue\u001b[49m\u001b[43m)\u001b[49m\u001b[43m)\u001b[49m\n",
      "\u001b[36mFile \u001b[39m\u001b[32m~/TinyTroupe/tinytroupe/examples/../tinytroupe/agent/memory.py:505\u001b[39m, in \u001b[36mSemanticMemory._store\u001b[39m\u001b[34m(self, value)\u001b[39m\n\u001b[32m    503\u001b[39m engram_doc = \u001b[38;5;28mself\u001b[39m._build_document_from(value)\n\u001b[32m    504\u001b[39m logger.debug(\u001b[33mf\u001b[39m\u001b[33m\"\u001b[39m\u001b[33mStoring engram in semantic memory: \u001b[39m\u001b[38;5;132;01m{\u001b[39;00mengram_doc\u001b[38;5;132;01m}\u001b[39;00m\u001b[33m\"\u001b[39m)\n\u001b[32m--> \u001b[39m\u001b[32m505\u001b[39m \u001b[38;5;28;43mself\u001b[39;49m\u001b[43m.\u001b[49m\u001b[43msemantic_grounding_connector\u001b[49m\u001b[43m.\u001b[49m\u001b[43madd_document\u001b[49m\u001b[43m(\u001b[49m\u001b[43mengram_doc\u001b[49m\u001b[43m)\u001b[49m\n",
      "\u001b[36mFile \u001b[39m\u001b[32m~/TinyTroupe/tinytroupe/examples/../tinytroupe/agent/grounding.py:212\u001b[39m, in \u001b[36mBaseSemanticGroundingConnector.add_document\u001b[39m\u001b[34m(self, document)\u001b[39m\n\u001b[32m    206\u001b[39m \u001b[38;5;28;01mdef\u001b[39;00m\u001b[38;5;250m \u001b[39m\u001b[34madd_document\u001b[39m(\u001b[38;5;28mself\u001b[39m, document) -> \u001b[38;5;28;01mNone\u001b[39;00m:\n\u001b[32m    207\u001b[39m \u001b[38;5;250m    \u001b[39m\u001b[33;03m\"\"\"\u001b[39;00m\n\u001b[32m    208\u001b[39m \u001b[33;03m    Indexes a document for semantic retrieval.\u001b[39;00m\n\u001b[32m    209\u001b[39m \n\u001b[32m    210\u001b[39m \u001b[33;03m    Assumes the document has a metadata field called \"semantic_memory_id\" that is used to identify the document within Semantic Memory.\u001b[39;00m\n\u001b[32m    211\u001b[39m \u001b[33;03m    \"\"\"\u001b[39;00m\n\u001b[32m--> \u001b[39m\u001b[32m212\u001b[39m     \u001b[38;5;28;43mself\u001b[39;49m\u001b[43m.\u001b[49m\u001b[43madd_documents\u001b[49m\u001b[43m(\u001b[49m\u001b[43m[\u001b[49m\u001b[43mdocument\u001b[49m\u001b[43m]\u001b[49m\u001b[43m)\u001b[49m\n",
      "\u001b[36mFile \u001b[39m\u001b[32m~/TinyTroupe/tinytroupe/examples/../tinytroupe/agent/grounding.py:226\u001b[39m, in \u001b[36mBaseSemanticGroundingConnector.add_documents\u001b[39m\u001b[34m(self, new_documents)\u001b[39m\n\u001b[32m    223\u001b[39m logger.debug(\u001b[33mf\u001b[39m\u001b[33m\"\u001b[39m\u001b[33mAdding document \u001b[39m\u001b[38;5;132;01m{\u001b[39;00mdocument\u001b[38;5;132;01m}\u001b[39;00m\u001b[33m to index, text is: \u001b[39m\u001b[38;5;132;01m{\u001b[39;00mdocument.text\u001b[38;5;132;01m}\u001b[39;00m\u001b[33m\"\u001b[39m)\n\u001b[32m    225\u001b[39m \u001b[38;5;66;03m# out of an abundance of caution, we sanitize the text\u001b[39;00m\n\u001b[32m--> \u001b[39m\u001b[32m226\u001b[39m \u001b[43mdocument\u001b[49m\u001b[43m.\u001b[49m\u001b[43mtext\u001b[49m = utils.sanitize_raw_string(document.text)\n\u001b[32m    228\u001b[39m logger.debug(\u001b[33mf\u001b[39m\u001b[33m\"\u001b[39m\u001b[33mDocument text after sanitization: \u001b[39m\u001b[38;5;132;01m{\u001b[39;00mdocument.text\u001b[38;5;132;01m}\u001b[39;00m\u001b[33m\"\u001b[39m)\n\u001b[32m    230\u001b[39m \u001b[38;5;66;03m# add the new document to the list of documents after all sanitization and checks\u001b[39;00m\n",
      "\u001b[36mFile \u001b[39m\u001b[32m~/TinyTroupe/venv/lib/python3.13/site-packages/pydantic/main.py:998\u001b[39m, in \u001b[36mBaseModel.__setattr__\u001b[39m\u001b[34m(self, name, value)\u001b[39m\n\u001b[32m    996\u001b[39m \u001b[38;5;66;03m# if None is returned from _setattr_handler, the attribute was set directly\u001b[39;00m\n\u001b[32m    997\u001b[39m \u001b[38;5;28;01melif\u001b[39;00m (setattr_handler := \u001b[38;5;28mself\u001b[39m._setattr_handler(name, value)) \u001b[38;5;129;01mis\u001b[39;00m \u001b[38;5;129;01mnot\u001b[39;00m \u001b[38;5;28;01mNone\u001b[39;00m:\n\u001b[32m--> \u001b[39m\u001b[32m998\u001b[39m     \u001b[43msetattr_handler\u001b[49m\u001b[43m(\u001b[49m\u001b[38;5;28;43mself\u001b[39;49m\u001b[43m,\u001b[49m\u001b[43m \u001b[49m\u001b[43mname\u001b[49m\u001b[43m,\u001b[49m\u001b[43m \u001b[49m\u001b[43mvalue\u001b[49m\u001b[43m)\u001b[49m  \u001b[38;5;66;03m# call here to not memo on possibly unknown fields\u001b[39;00m\n\u001b[32m    999\u001b[39m     \u001b[38;5;28mself\u001b[39m.__pydantic_setattr_handlers__[name] = setattr_handler\n",
      "\u001b[36mFile \u001b[39m\u001b[32m~/TinyTroupe/venv/lib/python3.13/site-packages/pydantic/main.py:1038\u001b[39m, in \u001b[36mBaseModel._setattr_handler.<locals>.<lambda>\u001b[39m\u001b[34m(model, _name, val)\u001b[39m\n\u001b[32m   1035\u001b[39m \u001b[38;5;66;03m# We allow properties to be set only on non frozen models for now (to match dataclasses).\u001b[39;00m\n\u001b[32m   1036\u001b[39m \u001b[38;5;66;03m# This can be changed if it ever gets requested.\u001b[39;00m\n\u001b[32m   1037\u001b[39m \u001b[38;5;28;01mif\u001b[39;00m \u001b[38;5;28misinstance\u001b[39m(attr, \u001b[38;5;28mproperty\u001b[39m):\n\u001b[32m-> \u001b[39m\u001b[32m1038\u001b[39m     \u001b[38;5;28;01mreturn\u001b[39;00m \u001b[38;5;28;01mlambda\u001b[39;00m model, _name, val: \u001b[43mattr\u001b[49m\u001b[43m.\u001b[49m\u001b[34;43m__set__\u001b[39;49m\u001b[43m(\u001b[49m\u001b[43mmodel\u001b[49m\u001b[43m,\u001b[49m\u001b[43m \u001b[49m\u001b[43mval\u001b[49m\u001b[43m)\u001b[49m\n\u001b[32m   1039\u001b[39m \u001b[38;5;28;01melif\u001b[39;00m \u001b[38;5;28mcls\u001b[39m.model_config.get(\u001b[33m'\u001b[39m\u001b[33mvalidate_assignment\u001b[39m\u001b[33m'\u001b[39m):\n\u001b[32m   1040\u001b[39m     \u001b[38;5;28;01mreturn\u001b[39;00m _SIMPLE_SETATTR_HANDLERS[\u001b[33m'\u001b[39m\u001b[33mvalidate_assignment\u001b[39m\u001b[33m'\u001b[39m]\n",
      "\u001b[31mAttributeError\u001b[39m: property 'text' of 'Document' object has no setter"
     ]
    }
   ],
   "source": [
    "customer.listen_and_act(\"If you could improve in one of these aspects to better compete, what would that be?\", max_content_length=3000)"
   ]
  },
  {
   "cell_type": "code",
   "execution_count": null,
   "metadata": {
    "execution": {
     "iopub.execute_input": "2025-07-26T17:11:33.888901Z",
     "iopub.status.busy": "2025-07-26T17:11:33.887900Z",
     "iopub.status.idle": "2025-07-26T17:11:46.394708Z",
     "shell.execute_reply": "2025-07-26T17:11:46.392712Z"
    }
   },
   "outputs": [
    {
     "data": {
      "text/html": [
       "<pre style=\"margin:0px;;white-space:pre;overflow-x:auto;line-height:normal;font-family:Menlo,'DejaVu Sans Mono',consolas,'Courier New',monospace\"><span style=\"color: #00ffff; text-decoration-color: #00ffff; font-weight: bold; font-style: italic; text-decoration: underline\">USER</span><span style=\"color: #00ffff; text-decoration-color: #00ffff; font-weight: bold; font-style: italic\"> --&gt; </span><span style=\"color: #00ffff; text-decoration-color: #00ffff; font-weight: bold; font-style: italic; text-decoration: underline\">Lucas Almeida</span><span style=\"color: #00ffff; text-decoration-color: #00ffff; font-weight: bold; font-style: italic\">: [CONVERSATION] </span>\n",
       "<span style=\"color: #00ffff; text-decoration-color: #00ffff; font-weight: bold; font-style: italic\">          &gt; Please give more detail about that, so that we can think about a project to pursue this</span>\n",
       "<span style=\"color: #00ffff; text-decoration-color: #00ffff; font-weight: bold; font-style: italic\">          &gt; direction.</span>\n",
       "</pre>\n"
      ],
      "text/plain": [
       "\u001b[1;3;4;38;5;51mUSER\u001b[0m\u001b[1;3;38;5;51m --> \u001b[0m\u001b[1;3;4;38;5;51mLucas Almeida\u001b[0m\u001b[1;3;38;5;51m: \u001b[0m\u001b[1;3;38;5;51m[\u001b[0m\u001b[1;3;38;5;51mCONVERSATION\u001b[0m\u001b[1;3;38;5;51m]\u001b[0m\u001b[1;3;38;5;51m \u001b[0m\n",
       "\u001b[1;3;38;5;51m          > Please give more detail about that, so that we can think about a project to pursue this\u001b[0m\n",
       "\u001b[1;3;38;5;51m          > direction.\u001b[0m\n"
      ]
     },
     "metadata": {},
     "output_type": "display_data"
    },
    {
     "data": {
      "text/html": [
       "<pre style=\"margin:0px;;white-space:pre;overflow-x:auto;line-height:normal;font-family:Menlo,'DejaVu Sans Mono',consolas,'Courier New',monospace\"><span style=\"color: #00d700; text-decoration-color: #00d700; font-weight: bold; text-decoration: underline\">Lucas Almeida</span><span style=\"color: #00d700; text-decoration-color: #00d700; font-weight: bold\"> acts: [TALK] </span>\n",
       "<span style=\"color: #00d700; text-decoration-color: #00d700; font-weight: bold\">                   &gt; To pursue the direction of enhancing our digital customer experience, we could</span>\n",
       "<span style=\"color: #00d700; text-decoration-color: #00d700; font-weight: bold\">                   &gt; consider a multi-faceted project that includes the following components: </span><span style=\"color: #00d700; text-decoration-color: #00d700; font-weight: bold\">1</span><span style=\"color: #00d700; text-decoration-color: #00d700; font-weight: bold\">.</span>\n",
       "<span style=\"color: #00d700; text-decoration-color: #00d700; font-weight: bold\">                   &gt; **User Interface Redesign**: Conduct user research to identify pain points in</span>\n",
       "<span style=\"color: #00d700; text-decoration-color: #00d700; font-weight: bold\">                   &gt; our current online banking platform and mobile app. Based on this feedback, we</span>\n",
       "<span style=\"color: #00d700; text-decoration-color: #00d700; font-weight: bold\">                   &gt; can redesign the interface to make it more intuitive and visually appealing. </span><span style=\"color: #00d700; text-decoration-color: #00d700; font-weight: bold\">2</span><span style=\"color: #00d700; text-decoration-color: #00d700; font-weight: bold\">.</span>\n",
       "<span style=\"color: #00d700; text-decoration-color: #00d700; font-weight: bold\">                   &gt; **Personalization Features**: Implement machine learning algorithms to analyze</span>\n",
       "<span style=\"color: #00d700; text-decoration-color: #00d700; font-weight: bold\">                   &gt; customer data and provide personalized recommendations for financial products,</span>\n",
       "<span style=\"color: #00d700; text-decoration-color: #00d700; font-weight: bold\">                   &gt; budgeting tips, and investment opportunities tailored to individual user needs.</span>\n",
       "<span style=\"color: #00d700; text-decoration-color: #00d700; font-weight: bold\">                   &gt; </span><span style=\"color: #00d700; text-decoration-color: #00d700; font-weight: bold\">3</span><span style=\"color: #00d700; text-decoration-color: #00d700; font-weight: bold\">. **Real-Time Notifications**: Develop a system for real-time alerts regarding</span>\n",
       "<span style=\"color: #00d700; text-decoration-color: #00d700; font-weight: bold\">                   &gt; account activity, payment reminders, and personalized offers. This would keep</span>\n",
       "<span style=\"color: #00d700; text-decoration-color: #00d700; font-weight: bold\">                   &gt; customers engaged and informed about their finances. </span><span style=\"color: #00d700; text-decoration-color: #00d700; font-weight: bold\">4</span><span style=\"color: #00d700; text-decoration-color: #00d700; font-weight: bold\">. **Enhanced Security</span>\n",
       "<span style=\"color: #00d700; text-decoration-color: #00d700; font-weight: bold\">                   &gt; Measures**: Invest in advanced security features such as biometric</span>\n",
       "<span style=\"color: #00d700; text-decoration-color: #00d700; font-weight: bold\">                   &gt; authentication and fraud detection systems to ensure customer trust and safety</span>\n",
       "<span style=\"color: #00d700; text-decoration-color: #00d700; font-weight: bold\">                   &gt; while using our digital services. </span><span style=\"color: #00d700; text-decoration-color: #00d700; font-weight: bold\">5</span><span style=\"color: #00d700; text-decoration-color: #00d700; font-weight: bold\">. **Customer Feedback Loop**: Establish a</span>\n",
       "<span style=\"color: #00d700; text-decoration-color: #00d700; font-weight: bold\">                   &gt; continuous feedback mechanism where users can easily report issues or suggest</span>\n",
       "<span style=\"color: #00d700; text-decoration-color: #00d700; font-weight: bold\">                   &gt; improvements. This could be integrated into the app and website, allowing us to</span>\n",
       "<span style=\"color: #00d700; text-decoration-color: #00d700; font-weight: bold\">                   &gt; adapt quickly to customer needs. </span><span style=\"color: #00d700; text-decoration-color: #00d700; font-weight: bold\">6</span><span style=\"color: #00d700; text-decoration-color: #00d700; font-weight: bold\">. **Training and Support**: Provide</span>\n",
       "<span style=\"color: #00d700; text-decoration-color: #00d700; font-weight: bold\">                   &gt; comprehensive training for our staff on the new digital tools and features,</span>\n",
       "<span style=\"color: #00d700; text-decoration-color: #00d700; font-weight: bold\">                   &gt; ensuring they can assist customers effectively. Additionally, create a robust</span>\n",
       "<span style=\"color: #00d700; text-decoration-color: #00d700; font-weight: bold\">                   &gt; online support system with FAQs, chatbots, and live support options.  By</span>\n",
       "<span style=\"color: #00d700; text-decoration-color: #00d700; font-weight: bold\">                   &gt; focusing on these areas, we can significantly enhance the overall customer</span>\n",
       "<span style=\"color: #00d700; text-decoration-color: #00d700; font-weight: bold\">                   &gt; experience, making our bank more competitive against fintechs and improving</span>\n",
       "<span style=\"color: #00d700; text-decoration-color: #00d700; font-weight: bold\">                   &gt; customer loyalty.</span>\n",
       "</pre>\n"
      ],
      "text/plain": [
       "\u001b[1;4;38;5;40mLucas Almeida\u001b[0m\u001b[1;38;5;40m acts: \u001b[0m\u001b[1;38;5;40m[\u001b[0m\u001b[1;38;5;40mTALK\u001b[0m\u001b[1;38;5;40m]\u001b[0m\u001b[1;38;5;40m \u001b[0m\n",
       "\u001b[1;38;5;40m                   > To pursue the direction of enhancing our digital customer experience, we could\u001b[0m\n",
       "\u001b[1;38;5;40m                   > consider a multi-faceted project that includes the following components: \u001b[0m\u001b[1;38;5;40m1\u001b[0m\u001b[1;38;5;40m.\u001b[0m\n",
       "\u001b[1;38;5;40m                   > **User Interface Redesign**: Conduct user research to identify pain points in\u001b[0m\n",
       "\u001b[1;38;5;40m                   > our current online banking platform and mobile app. Based on this feedback, we\u001b[0m\n",
       "\u001b[1;38;5;40m                   > can redesign the interface to make it more intuitive and visually appealing. \u001b[0m\u001b[1;38;5;40m2\u001b[0m\u001b[1;38;5;40m.\u001b[0m\n",
       "\u001b[1;38;5;40m                   > **Personalization Features**: Implement machine learning algorithms to analyze\u001b[0m\n",
       "\u001b[1;38;5;40m                   > customer data and provide personalized recommendations for financial products,\u001b[0m\n",
       "\u001b[1;38;5;40m                   > budgeting tips, and investment opportunities tailored to individual user needs.\u001b[0m\n",
       "\u001b[1;38;5;40m                   > \u001b[0m\u001b[1;38;5;40m3\u001b[0m\u001b[1;38;5;40m. **Real-Time Notifications**: Develop a system for real-time alerts regarding\u001b[0m\n",
       "\u001b[1;38;5;40m                   > account activity, payment reminders, and personalized offers. This would keep\u001b[0m\n",
       "\u001b[1;38;5;40m                   > customers engaged and informed about their finances. \u001b[0m\u001b[1;38;5;40m4\u001b[0m\u001b[1;38;5;40m. **Enhanced Security\u001b[0m\n",
       "\u001b[1;38;5;40m                   > Measures**: Invest in advanced security features such as biometric\u001b[0m\n",
       "\u001b[1;38;5;40m                   > authentication and fraud detection systems to ensure customer trust and safety\u001b[0m\n",
       "\u001b[1;38;5;40m                   > while using our digital services. \u001b[0m\u001b[1;38;5;40m5\u001b[0m\u001b[1;38;5;40m. **Customer Feedback Loop**: Establish a\u001b[0m\n",
       "\u001b[1;38;5;40m                   > continuous feedback mechanism where users can easily report issues or suggest\u001b[0m\n",
       "\u001b[1;38;5;40m                   > improvements. This could be integrated into the app and website, allowing us to\u001b[0m\n",
       "\u001b[1;38;5;40m                   > adapt quickly to customer needs. \u001b[0m\u001b[1;38;5;40m6\u001b[0m\u001b[1;38;5;40m. **Training and Support**: Provide\u001b[0m\n",
       "\u001b[1;38;5;40m                   > comprehensive training for our staff on the new digital tools and features,\u001b[0m\n",
       "\u001b[1;38;5;40m                   > ensuring they can assist customers effectively. Additionally, create a robust\u001b[0m\n",
       "\u001b[1;38;5;40m                   > online support system with FAQs, chatbots, and live support options.  By\u001b[0m\n",
       "\u001b[1;38;5;40m                   > focusing on these areas, we can significantly enhance the overall customer\u001b[0m\n",
       "\u001b[1;38;5;40m                   > experience, making our bank more competitive against fintechs and improving\u001b[0m\n",
       "\u001b[1;38;5;40m                   > customer loyalty.\u001b[0m\n"
      ]
     },
     "metadata": {},
     "output_type": "display_data"
    },
    {
     "data": {
      "text/html": [
       "<pre style=\"margin:0px;;white-space:pre;overflow-x:auto;line-height:normal;font-family:Menlo,'DejaVu Sans Mono',consolas,'Courier New',monospace\"><span style=\"color: #d0d0d0; text-decoration-color: #d0d0d0; text-decoration: underline\">Lucas Almeida</span><span style=\"color: #d0d0d0; text-decoration-color: #d0d0d0\"> acts: </span><span style=\"color: #d0d0d0; text-decoration-color: #d0d0d0; font-weight: bold\">[</span><span style=\"color: #d0d0d0; text-decoration-color: #d0d0d0\">DONE</span><span style=\"color: #d0d0d0; text-decoration-color: #d0d0d0; font-weight: bold\">]</span><span style=\"color: #d0d0d0; text-decoration-color: #d0d0d0\"> </span>\n",
       "\n",
       "</pre>\n"
      ],
      "text/plain": [
       "\u001b[4;38;5;252mLucas Almeida\u001b[0m\u001b[38;5;252m acts: \u001b[0m\u001b[1;38;5;252m[\u001b[0m\u001b[38;5;252mDONE\u001b[0m\u001b[1;38;5;252m]\u001b[0m\u001b[38;5;252m \u001b[0m\n",
       "\n"
      ]
     },
     "metadata": {},
     "output_type": "display_data"
    },
    {
     "ename": "AttributeError",
     "evalue": "property 'text' of 'Document' object has no setter",
     "output_type": "error",
     "traceback": [
      "\u001b[31m---------------------------------------------------------------------------\u001b[39m",
      "\u001b[31mAttributeError\u001b[39m                            Traceback (most recent call last)",
      "\u001b[36mCell\u001b[39m\u001b[36m \u001b[39m\u001b[32mIn[10]\u001b[39m\u001b[32m, line 1\u001b[39m\n\u001b[32m----> \u001b[39m\u001b[32m1\u001b[39m \u001b[43mcustomer\u001b[49m\u001b[43m.\u001b[49m\u001b[43mlisten_and_act\u001b[49m\u001b[43m(\u001b[49m\u001b[33;43m\"\u001b[39;49m\u001b[33;43mPlease give more detail about that, so that we can think about a project to pursue this direction.\u001b[39;49m\u001b[33;43m\"\u001b[39;49m\u001b[43m,\u001b[49m\u001b[43m \u001b[49m\n\u001b[32m      2\u001b[39m \u001b[43m                        \u001b[49m\u001b[43mmax_content_length\u001b[49m\u001b[43m=\u001b[49m\u001b[32;43m3000\u001b[39;49m\u001b[43m)\u001b[49m\n",
      "\u001b[36mFile \u001b[39m\u001b[32m~/TinyTroupe/tinytroupe/examples/../tinytroupe/control.py:747\u001b[39m, in \u001b[36mtransactional.<locals>.decorator.<locals>.wrapper\u001b[39m\u001b[34m(*args, **kwargs)\u001b[39m\n\u001b[32m    744\u001b[39m parallel_id = \u001b[38;5;28mstr\u001b[39m(threading.current_thread())\n\u001b[32m    746\u001b[39m transaction = Transaction(obj_under_transaction, simulation, func, *args, **kwargs)\n\u001b[32m--> \u001b[39m\u001b[32m747\u001b[39m result = \u001b[43mtransaction\u001b[49m\u001b[43m.\u001b[49m\u001b[43mexecute\u001b[49m\u001b[43m(\u001b[49m\u001b[43mbegin_parallel\u001b[49m\u001b[43m=\u001b[49m\u001b[43mparallel\u001b[49m\u001b[43m,\u001b[49m\u001b[43m \u001b[49m\u001b[43mparallel_id\u001b[49m\u001b[43m=\u001b[49m\u001b[43mparallel_id\u001b[49m\u001b[43m)\u001b[49m\n\u001b[32m    749\u001b[39m \u001b[38;5;28;01mreturn\u001b[39;00m result\n",
      "\u001b[36mFile \u001b[39m\u001b[32m~/TinyTroupe/tinytroupe/examples/../tinytroupe/control.py:552\u001b[39m, in \u001b[36mTransaction.execute\u001b[39m\u001b[34m(self, begin_parallel, parallel_id)\u001b[39m\n\u001b[32m    549\u001b[39m \u001b[38;5;66;03m# Transaction caching will only operate if there is a simulation and it is started\u001b[39;00m\n\u001b[32m    550\u001b[39m \u001b[38;5;28;01mif\u001b[39;00m \u001b[38;5;28mself\u001b[39m.simulation \u001b[38;5;129;01mis\u001b[39;00m \u001b[38;5;28;01mNone\u001b[39;00m \u001b[38;5;129;01mor\u001b[39;00m \u001b[38;5;28mself\u001b[39m.simulation.status == Simulation.STATUS_STOPPED:\n\u001b[32m    551\u001b[39m     \u001b[38;5;66;03m# Compute the function and return it, no caching, since the simulation is not started\u001b[39;00m\n\u001b[32m--> \u001b[39m\u001b[32m552\u001b[39m     output = \u001b[38;5;28;43mself\u001b[39;49m\u001b[43m.\u001b[49m\u001b[43mfunction\u001b[49m\u001b[43m(\u001b[49m\u001b[43m*\u001b[49m\u001b[38;5;28;43mself\u001b[39;49m\u001b[43m.\u001b[49m\u001b[43margs\u001b[49m\u001b[43m,\u001b[49m\u001b[43m \u001b[49m\u001b[43m*\u001b[49m\u001b[43m*\u001b[49m\u001b[38;5;28;43mself\u001b[39;49m\u001b[43m.\u001b[49m\u001b[43mkwargs\u001b[49m\u001b[43m)\u001b[49m\n\u001b[32m    554\u001b[39m \u001b[38;5;28;01melif\u001b[39;00m \u001b[38;5;28mself\u001b[39m.simulation.status == Simulation.STATUS_STARTED:\n\u001b[32m    555\u001b[39m     \u001b[38;5;66;03m# Compute the event hash\u001b[39;00m\n\u001b[32m    556\u001b[39m     event_hash = \u001b[38;5;28mself\u001b[39m.simulation._function_call_hash(\u001b[38;5;28mself\u001b[39m.function_name, *\u001b[38;5;28mself\u001b[39m.args, **\u001b[38;5;28mself\u001b[39m.kwargs)\n",
      "\u001b[36mFile \u001b[39m\u001b[32m~/TinyTroupe/tinytroupe/examples/../tinytroupe/agent/tiny_person.py:835\u001b[39m, in \u001b[36mTinyPerson.listen_and_act\u001b[39m\u001b[34m(self, speech, return_actions, max_content_length, communication_display)\u001b[39m\n\u001b[32m    830\u001b[39m \u001b[38;5;250m\u001b[39m\u001b[33;03m\"\"\"\u001b[39;00m\n\u001b[32m    831\u001b[39m \u001b[33;03mConvenience method that combines the `listen` and `act` methods.\u001b[39;00m\n\u001b[32m    832\u001b[39m \u001b[33;03m\"\"\"\u001b[39;00m\n\u001b[32m    834\u001b[39m \u001b[38;5;28mself\u001b[39m.listen(speech, max_content_length=max_content_length, communication_display=communication_display)\n\u001b[32m--> \u001b[39m\u001b[32m835\u001b[39m \u001b[38;5;28;01mreturn\u001b[39;00m \u001b[38;5;28;43mself\u001b[39;49m\u001b[43m.\u001b[49m\u001b[43mact\u001b[49m\u001b[43m(\u001b[49m\n\u001b[32m    836\u001b[39m \u001b[43m    \u001b[49m\u001b[43mreturn_actions\u001b[49m\u001b[43m=\u001b[49m\u001b[43mreturn_actions\u001b[49m\u001b[43m,\u001b[49m\u001b[43m \u001b[49m\u001b[43mmax_content_length\u001b[49m\u001b[43m=\u001b[49m\u001b[43mmax_content_length\u001b[49m\u001b[43m,\u001b[49m\u001b[43m \u001b[49m\u001b[43mcommunication_display\u001b[49m\u001b[43m=\u001b[49m\u001b[43mcommunication_display\u001b[49m\n\u001b[32m    837\u001b[39m \u001b[43m\u001b[49m\u001b[43m)\u001b[49m\n",
      "\u001b[36mFile \u001b[39m\u001b[32m~/TinyTroupe/tinytroupe/examples/../tinytroupe/control.py:747\u001b[39m, in \u001b[36mtransactional.<locals>.decorator.<locals>.wrapper\u001b[39m\u001b[34m(*args, **kwargs)\u001b[39m\n\u001b[32m    744\u001b[39m parallel_id = \u001b[38;5;28mstr\u001b[39m(threading.current_thread())\n\u001b[32m    746\u001b[39m transaction = Transaction(obj_under_transaction, simulation, func, *args, **kwargs)\n\u001b[32m--> \u001b[39m\u001b[32m747\u001b[39m result = \u001b[43mtransaction\u001b[49m\u001b[43m.\u001b[49m\u001b[43mexecute\u001b[49m\u001b[43m(\u001b[49m\u001b[43mbegin_parallel\u001b[49m\u001b[43m=\u001b[49m\u001b[43mparallel\u001b[49m\u001b[43m,\u001b[49m\u001b[43m \u001b[49m\u001b[43mparallel_id\u001b[49m\u001b[43m=\u001b[49m\u001b[43mparallel_id\u001b[49m\u001b[43m)\u001b[49m\n\u001b[32m    749\u001b[39m \u001b[38;5;28;01mreturn\u001b[39;00m result\n",
      "\u001b[36mFile \u001b[39m\u001b[32m~/TinyTroupe/tinytroupe/examples/../tinytroupe/control.py:552\u001b[39m, in \u001b[36mTransaction.execute\u001b[39m\u001b[34m(self, begin_parallel, parallel_id)\u001b[39m\n\u001b[32m    549\u001b[39m \u001b[38;5;66;03m# Transaction caching will only operate if there is a simulation and it is started\u001b[39;00m\n\u001b[32m    550\u001b[39m \u001b[38;5;28;01mif\u001b[39;00m \u001b[38;5;28mself\u001b[39m.simulation \u001b[38;5;129;01mis\u001b[39;00m \u001b[38;5;28;01mNone\u001b[39;00m \u001b[38;5;129;01mor\u001b[39;00m \u001b[38;5;28mself\u001b[39m.simulation.status == Simulation.STATUS_STOPPED:\n\u001b[32m    551\u001b[39m     \u001b[38;5;66;03m# Compute the function and return it, no caching, since the simulation is not started\u001b[39;00m\n\u001b[32m--> \u001b[39m\u001b[32m552\u001b[39m     output = \u001b[38;5;28;43mself\u001b[39;49m\u001b[43m.\u001b[49m\u001b[43mfunction\u001b[49m\u001b[43m(\u001b[49m\u001b[43m*\u001b[49m\u001b[38;5;28;43mself\u001b[39;49m\u001b[43m.\u001b[49m\u001b[43margs\u001b[49m\u001b[43m,\u001b[49m\u001b[43m \u001b[49m\u001b[43m*\u001b[49m\u001b[43m*\u001b[49m\u001b[38;5;28;43mself\u001b[39;49m\u001b[43m.\u001b[49m\u001b[43mkwargs\u001b[49m\u001b[43m)\u001b[49m\n\u001b[32m    554\u001b[39m \u001b[38;5;28;01melif\u001b[39;00m \u001b[38;5;28mself\u001b[39m.simulation.status == Simulation.STATUS_STARTED:\n\u001b[32m    555\u001b[39m     \u001b[38;5;66;03m# Compute the event hash\u001b[39;00m\n\u001b[32m    556\u001b[39m     event_hash = \u001b[38;5;28mself\u001b[39m.simulation._function_call_hash(\u001b[38;5;28mself\u001b[39m.function_name, *\u001b[38;5;28mself\u001b[39m.args, **\u001b[38;5;28mself\u001b[39m.kwargs)\n",
      "\u001b[36mFile \u001b[39m\u001b[32m~/TinyTroupe/tinytroupe/examples/../tinytroupe/__init__.py:187\u001b[39m, in \u001b[36mConfigManager.config_defaults.<locals>.decorator.<locals>.wrapper\u001b[39m\u001b[34m(*args, **kwargs)\u001b[39m\n\u001b[32m    184\u001b[39m     \u001b[38;5;28;01mif\u001b[39;00m param_name \u001b[38;5;129;01min\u001b[39;00m bound_args.arguments \u001b[38;5;129;01mand\u001b[39;00m bound_args.arguments[param_name] \u001b[38;5;129;01mis\u001b[39;00m \u001b[38;5;28;01mNone\u001b[39;00m:\n\u001b[32m    185\u001b[39m         kwargs[param_name] = \u001b[38;5;28mself\u001b[39m.get(config_key)\n\u001b[32m--> \u001b[39m\u001b[32m187\u001b[39m \u001b[38;5;28;01mreturn\u001b[39;00m \u001b[43mfunc\u001b[49m\u001b[43m(\u001b[49m\u001b[43m*\u001b[49m\u001b[43margs\u001b[49m\u001b[43m,\u001b[49m\u001b[43m \u001b[49m\u001b[43m*\u001b[49m\u001b[43m*\u001b[49m\u001b[43mkwargs\u001b[49m\u001b[43m)\u001b[49m\n",
      "\u001b[36mFile \u001b[39m\u001b[32m~/TinyTroupe/tinytroupe/examples/../tinytroupe/agent/tiny_person.py:672\u001b[39m, in \u001b[36mTinyPerson.act\u001b[39m\u001b[34m(self, until_done, n, return_actions, max_content_length, communication_display)\u001b[39m\n\u001b[32m    669\u001b[39m         aux_act_once()\n\u001b[32m    671\u001b[39m \u001b[38;5;66;03m# The end of a sequence of actions is always considered to mark the end of an episode.\u001b[39;00m\n\u001b[32m--> \u001b[39m\u001b[32m672\u001b[39m \u001b[38;5;28;43mself\u001b[39;49m\u001b[43m.\u001b[49m\u001b[43mconsolidate_episode_memories\u001b[49m\u001b[43m(\u001b[49m\u001b[43m)\u001b[49m\n\u001b[32m    674\u001b[39m \u001b[38;5;28;01mif\u001b[39;00m return_actions:\n\u001b[32m    675\u001b[39m     \u001b[38;5;28;01mreturn\u001b[39;00m contents\n",
      "\u001b[36mFile \u001b[39m\u001b[32m~/TinyTroupe/tinytroupe/examples/../tinytroupe/agent/tiny_person.py:1062\u001b[39m, in \u001b[36mTinyPerson.consolidate_episode_memories\u001b[39m\u001b[34m(self)\u001b[39m\n\u001b[32m   1060\u001b[39m     logger.info(\u001b[33mf\u001b[39m\u001b[33m\"\u001b[39m\u001b[33m[\u001b[39m\u001b[38;5;132;01m{\u001b[39;00m\u001b[38;5;28mself\u001b[39m.name\u001b[38;5;132;01m}\u001b[39;00m\u001b[33m] Consolidating current \u001b[39m\u001b[38;5;132;01m{\u001b[39;00m\u001b[38;5;28mlen\u001b[39m(episode)\u001b[38;5;132;01m}\u001b[39;00m\u001b[33m episodic events as consolidated semantic memories.\u001b[39m\u001b[33m\"\u001b[39m)\n\u001b[32m   1061\u001b[39m     logger.debug(\u001b[33mf\u001b[39m\u001b[33m\"\u001b[39m\u001b[33m[\u001b[39m\u001b[38;5;132;01m{\u001b[39;00m\u001b[38;5;28mself\u001b[39m.name\u001b[38;5;132;01m}\u001b[39;00m\u001b[33m] Consolidated memories: \u001b[39m\u001b[38;5;132;01m{\u001b[39;00mconsolidated_memories\u001b[38;5;132;01m}\u001b[39;00m\u001b[33m\"\u001b[39m)\n\u001b[32m-> \u001b[39m\u001b[32m1062\u001b[39m     \u001b[38;5;28;43mself\u001b[39;49m\u001b[43m.\u001b[49m\u001b[43msemantic_memory\u001b[49m\u001b[43m.\u001b[49m\u001b[43mstore_all\u001b[49m\u001b[43m(\u001b[49m\u001b[43mconsolidated_memories\u001b[49m\u001b[43m)\u001b[49m\n\u001b[32m   1063\u001b[39m \u001b[38;5;28;01melse\u001b[39;00m:\n\u001b[32m   1064\u001b[39m     logger.warning(\u001b[33mf\u001b[39m\u001b[33m\"\u001b[39m\u001b[33m[\u001b[39m\u001b[38;5;132;01m{\u001b[39;00m\u001b[38;5;28mself\u001b[39m.name\u001b[38;5;132;01m}\u001b[39;00m\u001b[33m] No memories to consolidate from the current episode.\u001b[39m\u001b[33m\"\u001b[39m)\n",
      "\u001b[36mFile \u001b[39m\u001b[32m~/TinyTroupe/tinytroupe/examples/../tinytroupe/agent/memory.py:49\u001b[39m, in \u001b[36mTinyMemory.store_all\u001b[39m\u001b[34m(self, values)\u001b[39m\n\u001b[32m     47\u001b[39m \u001b[38;5;28;01mfor\u001b[39;00m i, value \u001b[38;5;129;01min\u001b[39;00m \u001b[38;5;28menumerate\u001b[39m(values):\n\u001b[32m     48\u001b[39m     logger.debug(\u001b[33mf\u001b[39m\u001b[33m\"\u001b[39m\u001b[33mStoring value #\u001b[39m\u001b[38;5;132;01m{\u001b[39;00mi\u001b[38;5;132;01m}\u001b[39;00m\u001b[33m: \u001b[39m\u001b[38;5;132;01m{\u001b[39;00mvalue\u001b[38;5;132;01m}\u001b[39;00m\u001b[33m\"\u001b[39m)\n\u001b[32m---> \u001b[39m\u001b[32m49\u001b[39m     \u001b[38;5;28;43mself\u001b[39;49m\u001b[43m.\u001b[49m\u001b[43mstore\u001b[49m\u001b[43m(\u001b[49m\u001b[43mvalue\u001b[49m\u001b[43m)\u001b[49m\n",
      "\u001b[36mFile \u001b[39m\u001b[32m~/TinyTroupe/tinytroupe/examples/../tinytroupe/agent/memory.py:40\u001b[39m, in \u001b[36mTinyMemory.store\u001b[39m\u001b[34m(self, value)\u001b[39m\n\u001b[32m     36\u001b[39m \u001b[38;5;28;01mdef\u001b[39;00m\u001b[38;5;250m \u001b[39m\u001b[34mstore\u001b[39m(\u001b[38;5;28mself\u001b[39m, value: \u001b[38;5;28mdict\u001b[39m) -> \u001b[38;5;28;01mNone\u001b[39;00m:\n\u001b[32m     37\u001b[39m \u001b[38;5;250m    \u001b[39m\u001b[33;03m\"\"\"\u001b[39;00m\n\u001b[32m     38\u001b[39m \u001b[33;03m    Stores a value in memory.\u001b[39;00m\n\u001b[32m     39\u001b[39m \u001b[33;03m    \"\"\"\u001b[39;00m\n\u001b[32m---> \u001b[39m\u001b[32m40\u001b[39m     \u001b[38;5;28;43mself\u001b[39;49m\u001b[43m.\u001b[49m\u001b[43m_store\u001b[49m\u001b[43m(\u001b[49m\u001b[38;5;28;43mself\u001b[39;49m\u001b[43m.\u001b[49m\u001b[43m_preprocess_value_for_storage\u001b[49m\u001b[43m(\u001b[49m\u001b[43mvalue\u001b[49m\u001b[43m)\u001b[49m\u001b[43m)\u001b[49m\n",
      "\u001b[36mFile \u001b[39m\u001b[32m~/TinyTroupe/tinytroupe/examples/../tinytroupe/agent/memory.py:505\u001b[39m, in \u001b[36mSemanticMemory._store\u001b[39m\u001b[34m(self, value)\u001b[39m\n\u001b[32m    503\u001b[39m engram_doc = \u001b[38;5;28mself\u001b[39m._build_document_from(value)\n\u001b[32m    504\u001b[39m logger.debug(\u001b[33mf\u001b[39m\u001b[33m\"\u001b[39m\u001b[33mStoring engram in semantic memory: \u001b[39m\u001b[38;5;132;01m{\u001b[39;00mengram_doc\u001b[38;5;132;01m}\u001b[39;00m\u001b[33m\"\u001b[39m)\n\u001b[32m--> \u001b[39m\u001b[32m505\u001b[39m \u001b[38;5;28;43mself\u001b[39;49m\u001b[43m.\u001b[49m\u001b[43msemantic_grounding_connector\u001b[49m\u001b[43m.\u001b[49m\u001b[43madd_document\u001b[49m\u001b[43m(\u001b[49m\u001b[43mengram_doc\u001b[49m\u001b[43m)\u001b[49m\n",
      "\u001b[36mFile \u001b[39m\u001b[32m~/TinyTroupe/tinytroupe/examples/../tinytroupe/agent/grounding.py:212\u001b[39m, in \u001b[36mBaseSemanticGroundingConnector.add_document\u001b[39m\u001b[34m(self, document)\u001b[39m\n\u001b[32m    206\u001b[39m \u001b[38;5;28;01mdef\u001b[39;00m\u001b[38;5;250m \u001b[39m\u001b[34madd_document\u001b[39m(\u001b[38;5;28mself\u001b[39m, document) -> \u001b[38;5;28;01mNone\u001b[39;00m:\n\u001b[32m    207\u001b[39m \u001b[38;5;250m    \u001b[39m\u001b[33;03m\"\"\"\u001b[39;00m\n\u001b[32m    208\u001b[39m \u001b[33;03m    Indexes a document for semantic retrieval.\u001b[39;00m\n\u001b[32m    209\u001b[39m \n\u001b[32m    210\u001b[39m \u001b[33;03m    Assumes the document has a metadata field called \"semantic_memory_id\" that is used to identify the document within Semantic Memory.\u001b[39;00m\n\u001b[32m    211\u001b[39m \u001b[33;03m    \"\"\"\u001b[39;00m\n\u001b[32m--> \u001b[39m\u001b[32m212\u001b[39m     \u001b[38;5;28;43mself\u001b[39;49m\u001b[43m.\u001b[49m\u001b[43madd_documents\u001b[49m\u001b[43m(\u001b[49m\u001b[43m[\u001b[49m\u001b[43mdocument\u001b[49m\u001b[43m]\u001b[49m\u001b[43m)\u001b[49m\n",
      "\u001b[36mFile \u001b[39m\u001b[32m~/TinyTroupe/tinytroupe/examples/../tinytroupe/agent/grounding.py:226\u001b[39m, in \u001b[36mBaseSemanticGroundingConnector.add_documents\u001b[39m\u001b[34m(self, new_documents)\u001b[39m\n\u001b[32m    223\u001b[39m logger.debug(\u001b[33mf\u001b[39m\u001b[33m\"\u001b[39m\u001b[33mAdding document \u001b[39m\u001b[38;5;132;01m{\u001b[39;00mdocument\u001b[38;5;132;01m}\u001b[39;00m\u001b[33m to index, text is: \u001b[39m\u001b[38;5;132;01m{\u001b[39;00mdocument.text\u001b[38;5;132;01m}\u001b[39;00m\u001b[33m\"\u001b[39m)\n\u001b[32m    225\u001b[39m \u001b[38;5;66;03m# out of an abundance of caution, we sanitize the text\u001b[39;00m\n\u001b[32m--> \u001b[39m\u001b[32m226\u001b[39m \u001b[43mdocument\u001b[49m\u001b[43m.\u001b[49m\u001b[43mtext\u001b[49m = utils.sanitize_raw_string(document.text)\n\u001b[32m    228\u001b[39m logger.debug(\u001b[33mf\u001b[39m\u001b[33m\"\u001b[39m\u001b[33mDocument text after sanitization: \u001b[39m\u001b[38;5;132;01m{\u001b[39;00mdocument.text\u001b[38;5;132;01m}\u001b[39;00m\u001b[33m\"\u001b[39m)\n\u001b[32m    230\u001b[39m \u001b[38;5;66;03m# add the new document to the list of documents after all sanitization and checks\u001b[39;00m\n",
      "\u001b[36mFile \u001b[39m\u001b[32m~/TinyTroupe/venv/lib/python3.13/site-packages/pydantic/main.py:998\u001b[39m, in \u001b[36mBaseModel.__setattr__\u001b[39m\u001b[34m(self, name, value)\u001b[39m\n\u001b[32m    996\u001b[39m \u001b[38;5;66;03m# if None is returned from _setattr_handler, the attribute was set directly\u001b[39;00m\n\u001b[32m    997\u001b[39m \u001b[38;5;28;01melif\u001b[39;00m (setattr_handler := \u001b[38;5;28mself\u001b[39m._setattr_handler(name, value)) \u001b[38;5;129;01mis\u001b[39;00m \u001b[38;5;129;01mnot\u001b[39;00m \u001b[38;5;28;01mNone\u001b[39;00m:\n\u001b[32m--> \u001b[39m\u001b[32m998\u001b[39m     \u001b[43msetattr_handler\u001b[49m\u001b[43m(\u001b[49m\u001b[38;5;28;43mself\u001b[39;49m\u001b[43m,\u001b[49m\u001b[43m \u001b[49m\u001b[43mname\u001b[49m\u001b[43m,\u001b[49m\u001b[43m \u001b[49m\u001b[43mvalue\u001b[49m\u001b[43m)\u001b[49m  \u001b[38;5;66;03m# call here to not memo on possibly unknown fields\u001b[39;00m\n\u001b[32m    999\u001b[39m     \u001b[38;5;28mself\u001b[39m.__pydantic_setattr_handlers__[name] = setattr_handler\n",
      "\u001b[36mFile \u001b[39m\u001b[32m~/TinyTroupe/venv/lib/python3.13/site-packages/pydantic/main.py:1038\u001b[39m, in \u001b[36mBaseModel._setattr_handler.<locals>.<lambda>\u001b[39m\u001b[34m(model, _name, val)\u001b[39m\n\u001b[32m   1035\u001b[39m \u001b[38;5;66;03m# We allow properties to be set only on non frozen models for now (to match dataclasses).\u001b[39;00m\n\u001b[32m   1036\u001b[39m \u001b[38;5;66;03m# This can be changed if it ever gets requested.\u001b[39;00m\n\u001b[32m   1037\u001b[39m \u001b[38;5;28;01mif\u001b[39;00m \u001b[38;5;28misinstance\u001b[39m(attr, \u001b[38;5;28mproperty\u001b[39m):\n\u001b[32m-> \u001b[39m\u001b[32m1038\u001b[39m     \u001b[38;5;28;01mreturn\u001b[39;00m \u001b[38;5;28;01mlambda\u001b[39;00m model, _name, val: \u001b[43mattr\u001b[49m\u001b[43m.\u001b[49m\u001b[34;43m__set__\u001b[39;49m\u001b[43m(\u001b[49m\u001b[43mmodel\u001b[49m\u001b[43m,\u001b[49m\u001b[43m \u001b[49m\u001b[43mval\u001b[49m\u001b[43m)\u001b[49m\n\u001b[32m   1039\u001b[39m \u001b[38;5;28;01melif\u001b[39;00m \u001b[38;5;28mcls\u001b[39m.model_config.get(\u001b[33m'\u001b[39m\u001b[33mvalidate_assignment\u001b[39m\u001b[33m'\u001b[39m):\n\u001b[32m   1040\u001b[39m     \u001b[38;5;28;01mreturn\u001b[39;00m _SIMPLE_SETATTR_HANDLERS[\u001b[33m'\u001b[39m\u001b[33mvalidate_assignment\u001b[39m\u001b[33m'\u001b[39m]\n",
      "\u001b[31mAttributeError\u001b[39m: property 'text' of 'Document' object has no setter"
     ]
    }
   ],
   "source": [
    "customer.listen_and_act(\"Please give more detail about that, so that we can think about a project to pursue this direction.\", \n",
    "                        max_content_length=3000)"
   ]
  },
  {
   "cell_type": "code",
   "execution_count": null,
   "metadata": {},
   "outputs": [],
   "source": []
  }
 ],
 "metadata": {
  "kernelspec": {
   "display_name": "venv",
   "language": "python",
   "name": "python3"
  },
  "language_info": {
   "codemirror_mode": {
    "name": "ipython",
    "version": 3
   },
   "file_extension": ".py",
   "mimetype": "text/x-python",
   "name": "python",
   "nbconvert_exporter": "python",
   "pygments_lexer": "ipython3",
   "version": "3.13.3"
  }
 },
 "nbformat": 4,
 "nbformat_minor": 2
}
